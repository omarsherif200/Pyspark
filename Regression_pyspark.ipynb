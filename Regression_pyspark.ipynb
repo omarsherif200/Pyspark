{
  "nbformat": 4,
  "nbformat_minor": 0,
  "metadata": {
    "colab": {
      "name": "Regression_pyspark.ipynb",
      "provenance": [],
      "collapsed_sections": []
    },
    "kernelspec": {
      "name": "python3",
      "display_name": "Python 3"
    },
    "language_info": {
      "name": "python"
    }
  },
  "cells": [
    {
      "cell_type": "markdown",
      "source": [
        "## **Dataset Description**\n",
        "## Dataset Name : 1000000 Sales Records\n",
        "## Columns:\n",
        "- Region : (ex: Africa , Middle East , Asia , Central America , etc).\n",
        "- Country.\n",
        "- Item Type : Type of product such as Fruits , Clothes , Meat ,etc.\n",
        "- Sales Channel : Whether the transaction is done online or offline.\n",
        "- Order Priority : The priority of the order (L:Low , M:Medium , H:High , C:Critical).\n",
        "- Order Date : Date of ordering the product.\n",
        "- Order ID : Unique identifier for each order.\n",
        "- Ship Date : Date of product arrival.\n",
        "- Units Sold : Number of items sold in this transaction.\n",
        "- Unit Price : Price of each single product.\n",
        "- Unit Cost : Cost of each single product.\n",
        "- Total Revenue.\n",
        "- Total Cost.\n",
        "- Total Profit (Label for regression) : Net Profit."
      ],
      "metadata": {
        "id": "UA10ZCcXwBLO"
      }
    },
    {
      "cell_type": "code",
      "source": [
        "!pip install pyspark"
      ],
      "metadata": {
        "colab": {
          "base_uri": "https://localhost:8080/"
        },
        "id": "ahoSQOSF_PJ4",
        "outputId": "3630a92a-876a-43d7-ed88-570f4a3b2c96"
      },
      "execution_count": null,
      "outputs": [
        {
          "output_type": "stream",
          "name": "stdout",
          "text": [
            "Requirement already satisfied: pyspark in /usr/local/lib/python3.7/dist-packages (3.2.1)\n",
            "Requirement already satisfied: py4j==0.10.9.3 in /usr/local/lib/python3.7/dist-packages (from pyspark) (0.10.9.3)\n"
          ]
        }
      ]
    },
    {
      "cell_type": "code",
      "source": [
        "#Importing needed libraries\n",
        "\n",
        "import pandas as pd\n",
        "import numpy as np\n",
        "import pyspark\n",
        "from pyspark.sql import SparkSession, SQLContext\n",
        "from pyspark.mllib.stat import Statistics\n",
        "from pyspark.mllib.feature import StandardScaler\n",
        "from pyspark.ml import Pipeline\n",
        "from pyspark.ml.feature import OneHotEncoder , StringIndexer , VectorAssembler\n",
        "from pyspark.ml.regression import LinearRegression , RandomForestRegressor , GBTRegressor\n",
        "from pyspark.ml.evaluation import RegressionEvaluator\n",
        "from pyspark.sql.functions import *\n",
        "from pyspark.sql import Window"
      ],
      "metadata": {
        "id": "36tqhd75_UsN"
      },
      "execution_count": null,
      "outputs": []
    },
    {
      "cell_type": "markdown",
      "source": [
        "## **Load Data**"
      ],
      "metadata": {
        "id": "QLuUSi50Zk9R"
      }
    },
    {
      "cell_type": "code",
      "source": [
        "spark=SparkSession.builder.appName(\"Regression\").getOrCreate()"
      ],
      "metadata": {
        "id": "68PCT-ib_0vS"
      },
      "execution_count": null,
      "outputs": []
    },
    {
      "cell_type": "code",
      "source": [
        "df=spark.read.csv(\"/content/drive/MyDrive/1000000 Sales Records.csv\",header=True)"
      ],
      "metadata": {
        "id": "1sKA-cTLACaF"
      },
      "execution_count": null,
      "outputs": []
    },
    {
      "cell_type": "code",
      "source": [
        "df.show()"
      ],
      "metadata": {
        "colab": {
          "base_uri": "https://localhost:8080/"
        },
        "id": "pnCnm04HALPV",
        "outputId": "241c072d-d4d1-4360-bf8e-6016a721064f"
      },
      "execution_count": null,
      "outputs": [
        {
          "output_type": "stream",
          "name": "stdout",
          "text": [
            "+--------------------+----------------+---------------+-------------+--------------+----------+---------+----------+----------+----------+---------+-------------+----------+------------+\n",
            "|              Region|         Country|      Item Type|Sales Channel|Order Priority|Order Date| Order ID| Ship Date|Units Sold|Unit Price|Unit Cost|Total Revenue|Total Cost|Total Profit|\n",
            "+--------------------+----------------+---------------+-------------+--------------+----------+---------+----------+----------+----------+---------+-------------+----------+------------+\n",
            "|  Sub-Saharan Africa|    South Africa|         Fruits|      Offline|             M| 7/27/2012|443368995| 7/28/2012|      1593|      9.33|     6.92|     14862.69|  11023.56|     3839.13|\n",
            "|Middle East and N...|         Morocco|        Clothes|       Online|             M| 9/14/2013|667593514|10/19/2013|      4611|    109.28|    35.84|    503890.08| 165258.24|   338631.84|\n",
            "|Australia and Oce...|Papua New Guinea|           Meat|      Offline|             M| 5/15/2015|940995585|  6/4/2015|       360|    421.89|   364.69|    151880.40| 131288.40|    20592.00|\n",
            "|  Sub-Saharan Africa|        Djibouti|        Clothes|      Offline|             H| 5/17/2017|880811536|  7/2/2017|       562|    109.28|    35.84|     61415.36|  20142.08|    41273.28|\n",
            "|              Europe|        Slovakia|      Beverages|      Offline|             L|10/26/2016|174590194| 12/4/2016|      3973|     47.45|    31.79|    188518.85| 126301.67|    62217.18|\n",
            "|                Asia|       Sri Lanka|         Fruits|       Online|             L| 11/7/2011|830192887|12/18/2011|      1379|      9.33|     6.92|     12866.07|   9542.68|     3323.39|\n",
            "|  Sub-Saharan Africa|     Seychelles |      Beverages|       Online|             M| 1/18/2013|425793445| 2/16/2013|       597|     47.45|    31.79|     28327.65|  18978.63|     9349.02|\n",
            "|  Sub-Saharan Africa|        Tanzania|      Beverages|       Online|             L|11/30/2016|659878194| 1/16/2017|      1476|     47.45|    31.79|     70036.20|  46922.04|    23114.16|\n",
            "|  Sub-Saharan Africa|           Ghana|Office Supplies|       Online|             L| 3/23/2017|601245963| 4/15/2017|       896|    651.21|   524.96|    583484.16| 470364.16|   113120.00|\n",
            "|  Sub-Saharan Africa|        Tanzania|      Cosmetics|      Offline|             L| 5/23/2016|739008080| 5/24/2016|      7768|    437.20|   263.33|   3396169.60|2045547.44|  1350622.16|\n",
            "|                Asia|          Taiwan|         Fruits|      Offline|             M|  2/9/2014|732588374| 2/23/2014|      8034|      9.33|     6.92|     74957.22|  55595.28|    19361.94|\n",
            "|Middle East and N...|         Algeria|      Cosmetics|       Online|             M| 2/18/2011|761723172| 2/24/2011|      9669|    437.20|   263.33|   4227286.80|2546137.77|  1681149.03|\n",
            "|                Asia|       Singapore|         Snacks|       Online|             C| 1/28/2013|176461303|  2/7/2013|      7676|    152.58|    97.44|   1171204.08| 747949.44|   423254.64|\n",
            "|Australia and Oce...|Papua New Guinea|        Clothes|      Offline|             L| 6/20/2011|647164094| 7/14/2011|      9092|    109.28|    35.84|    993573.76| 325857.28|   667716.48|\n",
            "|                Asia|         Vietnam|  Personal Care|       Online|             M|  4/4/2010|314505374|  5/6/2010|      7984|     81.73|    56.67|    652532.32| 452453.28|   200079.04|\n",
            "|  Sub-Saharan Africa|          Uganda|  Personal Care|       Online|             M| 6/19/2014|539471471| 7/21/2014|       451|     81.73|    56.67|     36860.23|  25558.17|    11302.06|\n",
            "|  Sub-Saharan Africa|        Zimbabwe|Office Supplies|      Offline|             C| 3/28/2011|953361213|  4/8/2011|      9623|    651.21|   524.96|   6266593.83|5051690.08|  1214903.75|\n",
            "|  Sub-Saharan Africa|        Ethiopia|      Cosmetics|       Online|             M|  7/7/2011|807785928| 7/25/2011|       662|    437.20|   263.33|    289426.40| 174324.46|   115101.94|\n",
            "|              Europe|          France|      Cosmetics|       Online|             M| 12/7/2015|324669444| 1/18/2016|      5758|    437.20|   263.33|   2517397.60|1516254.14|  1001143.46|\n",
            "|Central America a...|     The Bahamas|  Personal Care|       Online|             C| 1/19/2011|246248090| 2/21/2011|      9137|     81.73|    56.67|    746767.01| 517793.79|   228973.22|\n",
            "+--------------------+----------------+---------------+-------------+--------------+----------+---------+----------+----------+----------+---------+-------------+----------+------------+\n",
            "only showing top 20 rows\n",
            "\n"
          ]
        }
      ]
    },
    {
      "cell_type": "markdown",
      "source": [
        "## **Displaying the types of Dataframe columns**"
      ],
      "metadata": {
        "id": "G0q4qg7VZ4t_"
      }
    },
    {
      "cell_type": "code",
      "source": [
        "df.printSchema()"
      ],
      "metadata": {
        "colab": {
          "base_uri": "https://localhost:8080/"
        },
        "id": "hnUYNWEyBaAS",
        "outputId": "190507db-b7ad-42fc-b596-6aafa758972e"
      },
      "execution_count": null,
      "outputs": [
        {
          "output_type": "stream",
          "name": "stdout",
          "text": [
            "root\n",
            " |-- Region: string (nullable = true)\n",
            " |-- Country: string (nullable = true)\n",
            " |-- Item Type: string (nullable = true)\n",
            " |-- Sales Channel: string (nullable = true)\n",
            " |-- Order Priority: string (nullable = true)\n",
            " |-- Order Date: string (nullable = true)\n",
            " |-- Order ID: string (nullable = true)\n",
            " |-- Ship Date: string (nullable = true)\n",
            " |-- Units Sold: string (nullable = true)\n",
            " |-- Unit Price: string (nullable = true)\n",
            " |-- Unit Cost: string (nullable = true)\n",
            " |-- Total Revenue: string (nullable = true)\n",
            " |-- Total Cost: string (nullable = true)\n",
            " |-- Total Profit: string (nullable = true)\n",
            "\n"
          ]
        }
      ]
    },
    {
      "cell_type": "markdown",
      "source": [
        "## **Converting dataframe numerical columns to float data type instead of string**"
      ],
      "metadata": {
        "id": "pNtjhFUbaSYv"
      }
    },
    {
      "cell_type": "code",
      "source": [
        "numerical_columns=['Units Sold','Unit Price','Unit Cost','Total Revenue','Total Cost','Total Profit']\n",
        "\n",
        "for column in numerical_columns:\n",
        "  df=df.withColumn(column,df[column].cast(\"float\").alias(column))\n"
      ],
      "metadata": {
        "id": "qsL5In9KBr0u"
      },
      "execution_count": null,
      "outputs": []
    },
    {
      "cell_type": "code",
      "source": [
        "df.printSchema()"
      ],
      "metadata": {
        "colab": {
          "base_uri": "https://localhost:8080/"
        },
        "id": "EVFAeBR9B8PF",
        "outputId": "8f1bf2f6-1114-4ea4-d12a-a7e615fa166f"
      },
      "execution_count": null,
      "outputs": [
        {
          "output_type": "stream",
          "name": "stdout",
          "text": [
            "root\n",
            " |-- Region: string (nullable = true)\n",
            " |-- Country: string (nullable = true)\n",
            " |-- Item Type: string (nullable = true)\n",
            " |-- Sales Channel: string (nullable = true)\n",
            " |-- Order Priority: string (nullable = true)\n",
            " |-- Order Date: string (nullable = true)\n",
            " |-- Order ID: string (nullable = true)\n",
            " |-- Ship Date: string (nullable = true)\n",
            " |-- Units Sold: float (nullable = true)\n",
            " |-- Unit Price: float (nullable = true)\n",
            " |-- Unit Cost: float (nullable = true)\n",
            " |-- Total Revenue: float (nullable = true)\n",
            " |-- Total Cost: float (nullable = true)\n",
            " |-- Total Profit: float (nullable = true)\n",
            "\n"
          ]
        }
      ]
    },
    {
      "cell_type": "code",
      "source": [
        "df.show()"
      ],
      "metadata": {
        "colab": {
          "base_uri": "https://localhost:8080/"
        },
        "id": "IFygIhY6FK3L",
        "outputId": "72448a26-a654-4581-e3ee-0466ec328b77"
      },
      "execution_count": null,
      "outputs": [
        {
          "output_type": "stream",
          "name": "stdout",
          "text": [
            "+--------------------+----------------+---------------+-------------+--------------+----------+---------+----------+----------+----------+---------+-------------+----------+------------+\n",
            "|              Region|         Country|      Item Type|Sales Channel|Order Priority|Order Date| Order ID| Ship Date|Units Sold|Unit Price|Unit Cost|Total Revenue|Total Cost|Total Profit|\n",
            "+--------------------+----------------+---------------+-------------+--------------+----------+---------+----------+----------+----------+---------+-------------+----------+------------+\n",
            "|  Sub-Saharan Africa|    South Africa|         Fruits|      Offline|             M| 7/27/2012|443368995| 7/28/2012|    1593.0|      9.33|     6.92|     14862.69|  11023.56|     3839.13|\n",
            "|Middle East and N...|         Morocco|        Clothes|       Online|             M| 9/14/2013|667593514|10/19/2013|    4611.0|    109.28|    35.84|     503890.1| 165258.23|   338631.84|\n",
            "|Australia and Oce...|Papua New Guinea|           Meat|      Offline|             M| 5/15/2015|940995585|  6/4/2015|     360.0|    421.89|   364.69|     151880.4|  131288.4|     20592.0|\n",
            "|  Sub-Saharan Africa|        Djibouti|        Clothes|      Offline|             H| 5/17/2017|880811536|  7/2/2017|     562.0|    109.28|    35.84|     61415.36|  20142.08|    41273.28|\n",
            "|              Europe|        Slovakia|      Beverages|      Offline|             L|10/26/2016|174590194| 12/4/2016|    3973.0|     47.45|    31.79|    188518.84| 126301.67|    62217.18|\n",
            "|                Asia|       Sri Lanka|         Fruits|       Online|             L| 11/7/2011|830192887|12/18/2011|    1379.0|      9.33|     6.92|     12866.07|   9542.68|     3323.39|\n",
            "|  Sub-Saharan Africa|     Seychelles |      Beverages|       Online|             M| 1/18/2013|425793445| 2/16/2013|     597.0|     47.45|    31.79|     28327.65|  18978.63|     9349.02|\n",
            "|  Sub-Saharan Africa|        Tanzania|      Beverages|       Online|             L|11/30/2016|659878194| 1/16/2017|    1476.0|     47.45|    31.79|      70036.2|  46922.04|    23114.16|\n",
            "|  Sub-Saharan Africa|           Ghana|Office Supplies|       Online|             L| 3/23/2017|601245963| 4/15/2017|     896.0|    651.21|   524.96|     583484.2| 470364.16|    113120.0|\n",
            "|  Sub-Saharan Africa|        Tanzania|      Cosmetics|      Offline|             L| 5/23/2016|739008080| 5/24/2016|    7768.0|     437.2|   263.33|    3396169.5| 2045547.5|   1350622.1|\n",
            "|                Asia|          Taiwan|         Fruits|      Offline|             M|  2/9/2014|732588374| 2/23/2014|    8034.0|      9.33|     6.92|     74957.22|  55595.28|    19361.94|\n",
            "|Middle East and N...|         Algeria|      Cosmetics|       Online|             M| 2/18/2011|761723172| 2/24/2011|    9669.0|     437.2|   263.33|    4227287.0| 2546137.8|   1681149.0|\n",
            "|                Asia|       Singapore|         Snacks|       Online|             C| 1/28/2013|176461303|  2/7/2013|    7676.0|    152.58|    97.44|    1171204.1| 747949.44|   423254.62|\n",
            "|Australia and Oce...|Papua New Guinea|        Clothes|      Offline|             L| 6/20/2011|647164094| 7/14/2011|    9092.0|    109.28|    35.84|    993573.75| 325857.28|    667716.5|\n",
            "|                Asia|         Vietnam|  Personal Care|       Online|             M|  4/4/2010|314505374|  5/6/2010|    7984.0|     81.73|    56.67|     652532.3| 452453.28|   200079.05|\n",
            "|  Sub-Saharan Africa|          Uganda|  Personal Care|       Online|             M| 6/19/2014|539471471| 7/21/2014|     451.0|     81.73|    56.67|     36860.23|  25558.17|    11302.06|\n",
            "|  Sub-Saharan Africa|        Zimbabwe|Office Supplies|      Offline|             C| 3/28/2011|953361213|  4/8/2011|    9623.0|    651.21|   524.96|    6266594.0| 5051690.0|   1214903.8|\n",
            "|  Sub-Saharan Africa|        Ethiopia|      Cosmetics|       Online|             M|  7/7/2011|807785928| 7/25/2011|     662.0|     437.2|   263.33|     289426.4| 174324.45|   115101.94|\n",
            "|              Europe|          France|      Cosmetics|       Online|             M| 12/7/2015|324669444| 1/18/2016|    5758.0|     437.2|   263.33|    2517397.5| 1516254.1|  1001143.44|\n",
            "|Central America a...|     The Bahamas|  Personal Care|       Online|             C| 1/19/2011|246248090| 2/21/2011|    9137.0|     81.73|    56.67|     746767.0| 517793.78|   228973.22|\n",
            "+--------------------+----------------+---------------+-------------+--------------+----------+---------+----------+----------+----------+---------+-------------+----------+------------+\n",
            "only showing top 20 rows\n",
            "\n"
          ]
        }
      ]
    },
    {
      "cell_type": "markdown",
      "source": [
        "## **Checking for Nulls in each column of the dataframe**"
      ],
      "metadata": {
        "id": "5xZBxzq6ajf3"
      }
    },
    {
      "cell_type": "code",
      "source": [
        "df.select([count(when(col(c).isNull(),c)).alias(c) for c in df.columns]).show()"
      ],
      "metadata": {
        "colab": {
          "base_uri": "https://localhost:8080/"
        },
        "id": "AQo6GZ0VFnoq",
        "outputId": "2ef9a610-22b8-4a41-9e15-e12f876a270a"
      },
      "execution_count": null,
      "outputs": [
        {
          "output_type": "stream",
          "name": "stdout",
          "text": [
            "+------+-------+---------+-------------+--------------+----------+--------+---------+----------+----------+---------+-------------+----------+------------+\n",
            "|Region|Country|Item Type|Sales Channel|Order Priority|Order Date|Order ID|Ship Date|Units Sold|Unit Price|Unit Cost|Total Revenue|Total Cost|Total Profit|\n",
            "+------+-------+---------+-------------+--------------+----------+--------+---------+----------+----------+---------+-------------+----------+------------+\n",
            "|     0|      0|        0|            0|             0|         0|       0|        0|         0|         0|        0|            0|         0|           0|\n",
            "+------+-------+---------+-------------+--------------+----------+--------+---------+----------+----------+---------+-------------+----------+------------+\n",
            "\n"
          ]
        }
      ]
    },
    {
      "cell_type": "markdown",
      "source": [
        "## **Checking if there are duplicate rows in the dataframe**"
      ],
      "metadata": {
        "id": "CAecER7wbHd2"
      }
    },
    {
      "cell_type": "code",
      "source": [
        "print(\"Number of duplicates found is: \",df.count()-df.distinct().count())"
      ],
      "metadata": {
        "colab": {
          "base_uri": "https://localhost:8080/"
        },
        "id": "z1oJvUxgGgja",
        "outputId": "e0001f04-9f3a-4865-8ffd-ed3b3d54ea90"
      },
      "execution_count": null,
      "outputs": [
        {
          "output_type": "stream",
          "name": "stdout",
          "text": [
            "Number of duplicates found is:  50009\n"
          ]
        }
      ]
    },
    {
      "cell_type": "markdown",
      "source": [
        "## **Removing duplicate records in the dataframe**"
      ],
      "metadata": {
        "id": "0efDtY_Sbhiu"
      }
    },
    {
      "cell_type": "code",
      "source": [
        "df=df.dropDuplicates()"
      ],
      "metadata": {
        "id": "9YJ21InGHIcY"
      },
      "execution_count": null,
      "outputs": []
    },
    {
      "cell_type": "code",
      "source": [
        "df.show()"
      ],
      "metadata": {
        "colab": {
          "base_uri": "https://localhost:8080/"
        },
        "id": "ldv04Dm3HtFW",
        "outputId": "76f8a5f7-a9b7-46f2-89ae-6bfba9fce4c0"
      },
      "execution_count": null,
      "outputs": [
        {
          "output_type": "stream",
          "name": "stdout",
          "text": [
            "+--------------------+----------------+---------------+-------------+--------------+----------+---------+----------+----------+----------+---------+-------------+----------+------------+\n",
            "|              Region|         Country|      Item Type|Sales Channel|Order Priority|Order Date| Order ID| Ship Date|Units Sold|Unit Price|Unit Cost|Total Revenue|Total Cost|Total Profit|\n",
            "+--------------------+----------------+---------------+-------------+--------------+----------+---------+----------+----------+----------+---------+-------------+----------+------------+\n",
            "|  Sub-Saharan Africa|          Malawi|      Household|      Offline|             H| 4/24/2012|358857953| 5/14/2012|    2898.0|    668.27|   502.54|    1936646.5| 1456360.9|   480285.53|\n",
            "|                Asia|           Nepal|  Personal Care|       Online|             H| 5/20/2011|543531262|  6/3/2011|    1834.0|     81.73|    56.67|    149892.81| 103932.78|    45960.04|\n",
            "|Middle East and N...|         Algeria|         Fruits|      Offline|             C| 9/25/2012|516187322| 11/7/2012|     154.0|      9.33|     6.92|      1436.82|   1065.68|      371.14|\n",
            "|  Sub-Saharan Africa|        Tanzania|      Cosmetics|      Offline|             C|12/16/2012|376671254| 1/11/2013|    4249.0|     437.2|   263.33|    1857662.8| 1118889.1|    738773.6|\n",
            "|  Sub-Saharan Africa|         Burundi|      Cosmetics|      Offline|             M| 8/25/2016|557419526|10/11/2016|    1680.0|     437.2|   263.33|     734496.0|  442394.4|    292101.6|\n",
            "|              Europe|         Georgia|         Snacks|      Offline|             M| 3/11/2015|657060372| 4/30/2015|    7620.0|    152.58|    97.44|    1162659.6|  742492.8|    420166.8|\n",
            "|  Sub-Saharan Africa|        Botswana|      Beverages|      Offline|             L| 3/17/2013|717284762|  4/9/2013|    9356.0|     47.45|    31.79|     443942.2| 297427.25|   146514.95|\n",
            "|  Sub-Saharan Africa|      Cape Verde|      Baby Food|       Online|             L| 3/29/2017|911781394| 4/16/2017|    5231.0|    255.28|   159.42|    1335369.6|  833926.0|   501443.66|\n",
            "|Australia and Oce...|Marshall Islands|Office Supplies|      Offline|             C| 8/26/2013|220405757|  9/7/2013|    1816.0|    651.21|   524.96|    1182597.4|  953327.4|    229270.0|\n",
            "|Middle East and N...|           Syria|         Cereal|       Online|             M| 5/12/2017|368566262| 5/29/2017|    5802.0|     205.7|   117.11|    1193471.4| 679472.25|    513999.2|\n",
            "|              Europe|       Lithuania|         Snacks|       Online|             H| 7/24/2012|924166333| 8/10/2012|     210.0|    152.58|    97.44|      32041.8|   20462.4|     11579.4|\n",
            "|Central America a...|            Cuba|      Cosmetics|      Offline|             H| 2/13/2011|966541802| 3/24/2011|      53.0|     437.2|   263.33|      23171.6|  13956.49|     9215.11|\n",
            "|Australia and Oce...|        Kiribati|  Personal Care|       Online|             C| 5/29/2010|644016253| 6/11/2010|    7576.0|     81.73|    56.67|     619186.5|  429331.9|   189854.56|\n",
            "|                Asia|        Thailand|     Vegetables|       Online|             M| 7/31/2011|393505656| 8/27/2011|    5923.0|    154.06|    90.93|     912497.4|  538578.4|    373919.0|\n",
            "|Central America a...|     Saint Lucia|      Cosmetics|      Offline|             M| 4/25/2013|291513478| 5/28/2013|    4171.0|     437.2|   263.33|    1823561.2| 1098349.4|   725211.75|\n",
            "|              Europe|           Malta|         Snacks|       Online|             C|  1/2/2011|823392522| 2/15/2011|    9000.0|    152.58|    97.44|    1373220.0|  876960.0|    496260.0|\n",
            "|Central America a...|        Dominica|         Cereal|       Online|             C|12/30/2015|423932635|  1/3/2016|    9942.0|     205.7|   117.11|    2045069.4| 1164307.6|   880761.75|\n",
            "|  Sub-Saharan Africa|        Ethiopia|      Baby Food|      Offline|             L| 6/12/2011|176913630| 6/19/2011|    1530.0|    255.28|   159.42|     390578.4|  243912.6|    146665.8|\n",
            "|       North America|          Canada|         Snacks|      Offline|             M|11/25/2013|280475223|12/22/2013|    7706.0|    152.58|    97.44|    1175781.5|  750872.6|   424908.84|\n",
            "|              Europe|           Italy|      Baby Food|      Offline|             L| 9/10/2014|204267442|10/11/2014|    6130.0|    255.28|   159.42|    1564866.4|  977244.6|    587621.8|\n",
            "+--------------------+----------------+---------------+-------------+--------------+----------+---------+----------+----------+----------+---------+-------------+----------+------------+\n",
            "only showing top 20 rows\n",
            "\n"
          ]
        }
      ]
    },
    {
      "cell_type": "markdown",
      "source": [
        "## **Converting Order Date and Ship Date to MM/dd/yyyy Format**"
      ],
      "metadata": {
        "id": "fN0MB4SPcTfz"
      }
    },
    {
      "cell_type": "code",
      "source": [
        "# Convert dates of format (M/d/yyyy , MM/d/yyyy , M/dd/yyyy) into a single format (MM/dd/yyyy) for further preprocessing\n",
        "def convert_date_to_correct_format(date_col,col_name):\n",
        "  date_col_updated=[]\n",
        "  for elem in date_col.collect():\n",
        "    date_components=elem[col_name].split('/')\n",
        "    reformatted_date=\"\"\n",
        "    if(len(date_components[0])==1):\n",
        "      reformatted_date+=\"0\"\n",
        "    reformatted_date+=date_components[0]\n",
        "    reformatted_date+=\"/\"\n",
        "    if(len(date_components[1])==1):\n",
        "      reformatted_date+=\"0\"\n",
        "    reformatted_date+=date_components[1]\n",
        "    reformatted_date+=\"/\"\n",
        "    reformatted_date+=date_components[2]\n",
        "    date_col_updated.append(reformatted_date)\n",
        "  return date_col_updated\n",
        "\n",
        "order_date_column =df.select(col(\"Order Date\"))\n",
        "ship_date_column=df.select(col(\"Ship Date\"))\n",
        "\n",
        "reformatted_order_date=convert_date_to_correct_format(order_date_column,\"Order Date\")\n",
        "reformatted_ship_date=convert_date_to_correct_format(ship_date_column,\"Ship Date\")\n",
        "\n"
      ],
      "metadata": {
        "id": "uq3ajUdaPHpl"
      },
      "execution_count": null,
      "outputs": []
    },
    {
      "cell_type": "code",
      "source": [
        "# adding the order and ship dates to the original dataframe after reformatting them to MM/dd/yyyy\n",
        "c1 = spark.createDataFrame([(l,) for l in reformatted_order_date], ['Reformatted Order Date'])\n",
        "c2 = spark.createDataFrame([(l,) for l in reformatted_ship_date], ['Reformatted Ship Date'])\n",
        "c1= c1.withColumn(\"row_idx\", row_number().over(Window.orderBy(monotonically_increasing_id())))\n",
        "c2 =c2.withColumn(\"row_idx\", row_number().over(Window.orderBy(monotonically_increasing_id())))\n",
        "dates_df = c1.join(c2, c1.row_idx == c2.row_idx).drop(c1.row_idx)\n",
        "df=df.withColumn(\"row_idx\", row_number().over(Window.orderBy(monotonically_increasing_id())))\n",
        "df=df.join(dates_df,df.row_idx == dates_df.row_idx).drop('row_idx')\n",
        "df.show()"
      ],
      "metadata": {
        "colab": {
          "base_uri": "https://localhost:8080/"
        },
        "id": "e49PU23PqJPi",
        "outputId": "7a51bf57-f92e-4b85-ad23-9fd6cd49d4a8"
      },
      "execution_count": null,
      "outputs": [
        {
          "output_type": "stream",
          "name": "stdout",
          "text": [
            "+--------------------+----------------+---------------+-------------+--------------+----------+---------+----------+----------+----------+---------+-------------+----------+------------+----------------------+---------------------+\n",
            "|              Region|         Country|      Item Type|Sales Channel|Order Priority|Order Date| Order ID| Ship Date|Units Sold|Unit Price|Unit Cost|Total Revenue|Total Cost|Total Profit|Reformatted Order Date|Reformatted Ship Date|\n",
            "+--------------------+----------------+---------------+-------------+--------------+----------+---------+----------+----------+----------+---------+-------------+----------+------------+----------------------+---------------------+\n",
            "|  Sub-Saharan Africa|          Malawi|      Household|      Offline|             H| 4/24/2012|358857953| 5/14/2012|    2898.0|    668.27|   502.54|    1936646.5| 1456360.9|   480285.53|            04/24/2012|           05/14/2012|\n",
            "|                Asia|           Nepal|  Personal Care|       Online|             H| 5/20/2011|543531262|  6/3/2011|    1834.0|     81.73|    56.67|    149892.81| 103932.78|    45960.04|            05/20/2011|           06/03/2011|\n",
            "|Middle East and N...|         Algeria|         Fruits|      Offline|             C| 9/25/2012|516187322| 11/7/2012|     154.0|      9.33|     6.92|      1436.82|   1065.68|      371.14|            09/25/2012|           11/07/2012|\n",
            "|  Sub-Saharan Africa|        Tanzania|      Cosmetics|      Offline|             C|12/16/2012|376671254| 1/11/2013|    4249.0|     437.2|   263.33|    1857662.8| 1118889.1|    738773.6|            12/16/2012|           01/11/2013|\n",
            "|  Sub-Saharan Africa|         Burundi|      Cosmetics|      Offline|             M| 8/25/2016|557419526|10/11/2016|    1680.0|     437.2|   263.33|     734496.0|  442394.4|    292101.6|            08/25/2016|           10/11/2016|\n",
            "|              Europe|         Georgia|         Snacks|      Offline|             M| 3/11/2015|657060372| 4/30/2015|    7620.0|    152.58|    97.44|    1162659.6|  742492.8|    420166.8|            03/11/2015|           04/30/2015|\n",
            "|  Sub-Saharan Africa|        Botswana|      Beverages|      Offline|             L| 3/17/2013|717284762|  4/9/2013|    9356.0|     47.45|    31.79|     443942.2| 297427.25|   146514.95|            03/17/2013|           04/09/2013|\n",
            "|  Sub-Saharan Africa|      Cape Verde|      Baby Food|       Online|             L| 3/29/2017|911781394| 4/16/2017|    5231.0|    255.28|   159.42|    1335369.6|  833926.0|   501443.66|            03/29/2017|           04/16/2017|\n",
            "|Australia and Oce...|Marshall Islands|Office Supplies|      Offline|             C| 8/26/2013|220405757|  9/7/2013|    1816.0|    651.21|   524.96|    1182597.4|  953327.4|    229270.0|            08/26/2013|           09/07/2013|\n",
            "|Middle East and N...|           Syria|         Cereal|       Online|             M| 5/12/2017|368566262| 5/29/2017|    5802.0|     205.7|   117.11|    1193471.4| 679472.25|    513999.2|            05/12/2017|           05/29/2017|\n",
            "|              Europe|       Lithuania|         Snacks|       Online|             H| 7/24/2012|924166333| 8/10/2012|     210.0|    152.58|    97.44|      32041.8|   20462.4|     11579.4|            07/24/2012|           08/10/2012|\n",
            "|Central America a...|            Cuba|      Cosmetics|      Offline|             H| 2/13/2011|966541802| 3/24/2011|      53.0|     437.2|   263.33|      23171.6|  13956.49|     9215.11|            02/13/2011|           03/24/2011|\n",
            "|Australia and Oce...|        Kiribati|  Personal Care|       Online|             C| 5/29/2010|644016253| 6/11/2010|    7576.0|     81.73|    56.67|     619186.5|  429331.9|   189854.56|            05/29/2010|           06/11/2010|\n",
            "|                Asia|        Thailand|     Vegetables|       Online|             M| 7/31/2011|393505656| 8/27/2011|    5923.0|    154.06|    90.93|     912497.4|  538578.4|    373919.0|            07/31/2011|           08/27/2011|\n",
            "|Central America a...|     Saint Lucia|      Cosmetics|      Offline|             M| 4/25/2013|291513478| 5/28/2013|    4171.0|     437.2|   263.33|    1823561.2| 1098349.4|   725211.75|            04/25/2013|           05/28/2013|\n",
            "|              Europe|           Malta|         Snacks|       Online|             C|  1/2/2011|823392522| 2/15/2011|    9000.0|    152.58|    97.44|    1373220.0|  876960.0|    496260.0|            01/02/2011|           02/15/2011|\n",
            "|Central America a...|        Dominica|         Cereal|       Online|             C|12/30/2015|423932635|  1/3/2016|    9942.0|     205.7|   117.11|    2045069.4| 1164307.6|   880761.75|            12/30/2015|           01/03/2016|\n",
            "|  Sub-Saharan Africa|        Ethiopia|      Baby Food|      Offline|             L| 6/12/2011|176913630| 6/19/2011|    1530.0|    255.28|   159.42|     390578.4|  243912.6|    146665.8|            06/12/2011|           06/19/2011|\n",
            "|       North America|          Canada|         Snacks|      Offline|             M|11/25/2013|280475223|12/22/2013|    7706.0|    152.58|    97.44|    1175781.5|  750872.6|   424908.84|            11/25/2013|           12/22/2013|\n",
            "|              Europe|           Italy|      Baby Food|      Offline|             L| 9/10/2014|204267442|10/11/2014|    6130.0|    255.28|   159.42|    1564866.4|  977244.6|    587621.8|            09/10/2014|           10/11/2014|\n",
            "+--------------------+----------------+---------------+-------------+--------------+----------+---------+----------+----------+----------+---------+-------------+----------+------------+----------------------+---------------------+\n",
            "only showing top 20 rows\n",
            "\n"
          ]
        }
      ]
    },
    {
      "cell_type": "markdown",
      "source": [
        "## **Adding a new column to the dataframe called shipping days which is the difference between the Shipping date and Order date**"
      ],
      "metadata": {
        "id": "7AYix_txeBvM"
      }
    },
    {
      "cell_type": "code",
      "source": [
        "df=df.select(\"*\",\n",
        "              datediff(to_date(col(\"Reformatted Ship Date\"),\"MM/dd/yyyy\"),\n",
        "                       to_date(col(\"Reformatted Order Date\"),\"MM/dd/yyyy\")).alias(\"Shipping days\"))\n",
        "df.show()"
      ],
      "metadata": {
        "colab": {
          "base_uri": "https://localhost:8080/"
        },
        "id": "z28jEnZNE5xD",
        "outputId": "5f1abfdd-7ae8-4acf-eb01-54985e6be94e"
      },
      "execution_count": null,
      "outputs": [
        {
          "output_type": "stream",
          "name": "stdout",
          "text": [
            "+--------------------+----------------+---------------+-------------+--------------+----------+---------+----------+----------+----------+---------+-------------+----------+------------+----------------------+---------------------+-------------+\n",
            "|              Region|         Country|      Item Type|Sales Channel|Order Priority|Order Date| Order ID| Ship Date|Units Sold|Unit Price|Unit Cost|Total Revenue|Total Cost|Total Profit|Reformatted Order Date|Reformatted Ship Date|Shipping days|\n",
            "+--------------------+----------------+---------------+-------------+--------------+----------+---------+----------+----------+----------+---------+-------------+----------+------------+----------------------+---------------------+-------------+\n",
            "|  Sub-Saharan Africa|          Malawi|      Household|      Offline|             H| 4/24/2012|358857953| 5/14/2012|    2898.0|    668.27|   502.54|    1936646.5| 1456360.9|   480285.53|            04/24/2012|           05/14/2012|           20|\n",
            "|                Asia|           Nepal|  Personal Care|       Online|             H| 5/20/2011|543531262|  6/3/2011|    1834.0|     81.73|    56.67|    149892.81| 103932.78|    45960.04|            05/20/2011|           06/03/2011|           14|\n",
            "|Middle East and N...|         Algeria|         Fruits|      Offline|             C| 9/25/2012|516187322| 11/7/2012|     154.0|      9.33|     6.92|      1436.82|   1065.68|      371.14|            09/25/2012|           11/07/2012|           43|\n",
            "|  Sub-Saharan Africa|        Tanzania|      Cosmetics|      Offline|             C|12/16/2012|376671254| 1/11/2013|    4249.0|     437.2|   263.33|    1857662.8| 1118889.1|    738773.6|            12/16/2012|           01/11/2013|           26|\n",
            "|  Sub-Saharan Africa|         Burundi|      Cosmetics|      Offline|             M| 8/25/2016|557419526|10/11/2016|    1680.0|     437.2|   263.33|     734496.0|  442394.4|    292101.6|            08/25/2016|           10/11/2016|           47|\n",
            "|              Europe|         Georgia|         Snacks|      Offline|             M| 3/11/2015|657060372| 4/30/2015|    7620.0|    152.58|    97.44|    1162659.6|  742492.8|    420166.8|            03/11/2015|           04/30/2015|           50|\n",
            "|  Sub-Saharan Africa|        Botswana|      Beverages|      Offline|             L| 3/17/2013|717284762|  4/9/2013|    9356.0|     47.45|    31.79|     443942.2| 297427.25|   146514.95|            03/17/2013|           04/09/2013|           23|\n",
            "|  Sub-Saharan Africa|      Cape Verde|      Baby Food|       Online|             L| 3/29/2017|911781394| 4/16/2017|    5231.0|    255.28|   159.42|    1335369.6|  833926.0|   501443.66|            03/29/2017|           04/16/2017|           18|\n",
            "|Australia and Oce...|Marshall Islands|Office Supplies|      Offline|             C| 8/26/2013|220405757|  9/7/2013|    1816.0|    651.21|   524.96|    1182597.4|  953327.4|    229270.0|            08/26/2013|           09/07/2013|           12|\n",
            "|Middle East and N...|           Syria|         Cereal|       Online|             M| 5/12/2017|368566262| 5/29/2017|    5802.0|     205.7|   117.11|    1193471.4| 679472.25|    513999.2|            05/12/2017|           05/29/2017|           17|\n",
            "|              Europe|       Lithuania|         Snacks|       Online|             H| 7/24/2012|924166333| 8/10/2012|     210.0|    152.58|    97.44|      32041.8|   20462.4|     11579.4|            07/24/2012|           08/10/2012|           17|\n",
            "|Central America a...|            Cuba|      Cosmetics|      Offline|             H| 2/13/2011|966541802| 3/24/2011|      53.0|     437.2|   263.33|      23171.6|  13956.49|     9215.11|            02/13/2011|           03/24/2011|           39|\n",
            "|Australia and Oce...|        Kiribati|  Personal Care|       Online|             C| 5/29/2010|644016253| 6/11/2010|    7576.0|     81.73|    56.67|     619186.5|  429331.9|   189854.56|            05/29/2010|           06/11/2010|           13|\n",
            "|                Asia|        Thailand|     Vegetables|       Online|             M| 7/31/2011|393505656| 8/27/2011|    5923.0|    154.06|    90.93|     912497.4|  538578.4|    373919.0|            07/31/2011|           08/27/2011|           27|\n",
            "|Central America a...|     Saint Lucia|      Cosmetics|      Offline|             M| 4/25/2013|291513478| 5/28/2013|    4171.0|     437.2|   263.33|    1823561.2| 1098349.4|   725211.75|            04/25/2013|           05/28/2013|           33|\n",
            "|              Europe|           Malta|         Snacks|       Online|             C|  1/2/2011|823392522| 2/15/2011|    9000.0|    152.58|    97.44|    1373220.0|  876960.0|    496260.0|            01/02/2011|           02/15/2011|           44|\n",
            "|Central America a...|        Dominica|         Cereal|       Online|             C|12/30/2015|423932635|  1/3/2016|    9942.0|     205.7|   117.11|    2045069.4| 1164307.6|   880761.75|            12/30/2015|           01/03/2016|            4|\n",
            "|  Sub-Saharan Africa|        Ethiopia|      Baby Food|      Offline|             L| 6/12/2011|176913630| 6/19/2011|    1530.0|    255.28|   159.42|     390578.4|  243912.6|    146665.8|            06/12/2011|           06/19/2011|            7|\n",
            "|       North America|          Canada|         Snacks|      Offline|             M|11/25/2013|280475223|12/22/2013|    7706.0|    152.58|    97.44|    1175781.5|  750872.6|   424908.84|            11/25/2013|           12/22/2013|           27|\n",
            "|              Europe|           Italy|      Baby Food|      Offline|             L| 9/10/2014|204267442|10/11/2014|    6130.0|    255.28|   159.42|    1564866.4|  977244.6|    587621.8|            09/10/2014|           10/11/2014|           31|\n",
            "+--------------------+----------------+---------------+-------------+--------------+----------+---------+----------+----------+----------+---------+-------------+----------+------------+----------------------+---------------------+-------------+\n",
            "only showing top 20 rows\n",
            "\n"
          ]
        }
      ]
    },
    {
      "cell_type": "markdown",
      "source": [
        "## **Feature engineering the categorical columns using one hot encoding technique**"
      ],
      "metadata": {
        "id": "1GZ9v8xM0m5m"
      }
    },
    {
      "cell_type": "code",
      "source": [
        "## Showing the number of unique values for each categorical column \n",
        "text_columns=[\"Region\",\"Country\",\"Item Type\",\"Sales Channel\",\"Order Priority\"]\n",
        "for col in text_columns:\n",
        "  print(col+\" has \"+str(df.select(col).distinct().count())+\" Distinct Values\")"
      ],
      "metadata": {
        "colab": {
          "base_uri": "https://localhost:8080/"
        },
        "id": "bnHsTMTCISVa",
        "outputId": "47a291f4-ae09-4197-feb9-fa264384bff9"
      },
      "execution_count": null,
      "outputs": [
        {
          "output_type": "stream",
          "name": "stdout",
          "text": [
            "Region has 7 Distinct Values\n",
            "Country has 185 Distinct Values\n",
            "Item Type has 12 Distinct Values\n",
            "Sales Channel has 2 Distinct Values\n",
            "Order Priority has 4 Distinct Values\n"
          ]
        }
      ]
    },
    {
      "cell_type": "code",
      "source": [
        "text_columns=[\"Region\",\"Country\",\"Item Type\",\"Sales Channel\",\"Order Priority\"]\n",
        "indexers=[StringIndexer(inputCol=c,outputCol=\"{}_indexed\".format(c)) for c in text_columns]\n",
        "encoders = [OneHotEncoder(inputCol=indexer.getOutputCol(),\n",
        "                        outputCol=\"{}_encoded\".format(indexer.getOutputCol()))\n",
        "                        for indexer in indexers]\n",
        "\n",
        "all_columns=[]\n",
        "filtered_numerical_columns=['Unit Price','Unit Cost','Shipping days']\n",
        "all_columns.extend(filtered_numerical_columns)\n",
        "encoder_columns=[encoder.getOutputCol() for encoder in encoders]\n",
        "all_columns.extend(encoder_columns)\n",
        "\n",
        "print(all_columns)\n",
        "assembler = VectorAssembler(\n",
        "    inputCols=all_columns,\n",
        "    outputCol=\"features\"\n",
        ")\n",
        "pipeline = Pipeline(stages=indexers + encoders + [assembler])\n",
        "final_features=pipeline.fit(df).transform(df)\n",
        "final_features.show()"
      ],
      "metadata": {
        "id": "PI4FbL3tKsAh",
        "colab": {
          "base_uri": "https://localhost:8080/"
        },
        "outputId": "500143ed-57fc-41da-ab31-8e86389dd165"
      },
      "execution_count": null,
      "outputs": [
        {
          "output_type": "stream",
          "name": "stdout",
          "text": [
            "['Unit Price', 'Unit Cost', 'Shipping days', 'Region_indexed_encoded', 'Country_indexed_encoded', 'Item Type_indexed_encoded', 'Sales Channel_indexed_encoded', 'Order Priority_indexed_encoded']\n",
            "+--------------------+----------------+---------------+-------------+--------------+----------+---------+----------+----------+----------+---------+-------------+----------+------------+----------------------+---------------------+-------------+--------------+---------------+-----------------+---------------------+----------------------+----------------------+-----------------------+-------------------------+-----------------------------+------------------------------+--------------------+\n",
            "|              Region|         Country|      Item Type|Sales Channel|Order Priority|Order Date| Order ID| Ship Date|Units Sold|Unit Price|Unit Cost|Total Revenue|Total Cost|Total Profit|Reformatted Order Date|Reformatted Ship Date|Shipping days|Region_indexed|Country_indexed|Item Type_indexed|Sales Channel_indexed|Order Priority_indexed|Region_indexed_encoded|Country_indexed_encoded|Item Type_indexed_encoded|Sales Channel_indexed_encoded|Order Priority_indexed_encoded|            features|\n",
            "+--------------------+----------------+---------------+-------------+--------------+----------+---------+----------+----------+----------+---------+-------------+----------+------------+----------------------+---------------------+-------------+--------------+---------------+-----------------+---------------------+----------------------+----------------------+-----------------------+-------------------------+-----------------------------+------------------------------+--------------------+\n",
            "|  Sub-Saharan Africa|          Malawi|      Household|      Offline|             H| 4/24/2012|358857953| 5/14/2012|    2898.0|    668.27|   502.54|    1936646.5| 1456360.9|   480285.53|            04/24/2012|           05/14/2012|           20|           0.0|           62.0|              7.0|                  0.0|                   2.0|         (6,[0],[1.0])|       (184,[62],[1.0])|           (11,[7],[1.0])|                (1,[0],[1.0])|                 (3,[2],[1.0])|(208,[0,1,2,3,71,...|\n",
            "|                Asia|           Nepal|  Personal Care|       Online|             H| 5/20/2011|543531262|  6/3/2011|    1834.0|     81.73|    56.67|    149892.81| 103932.78|    45960.04|            05/20/2011|           06/03/2011|           14|           2.0|           83.0|              1.0|                  1.0|                   2.0|         (6,[2],[1.0])|       (184,[83],[1.0])|           (11,[1],[1.0])|                    (1,[],[])|                 (3,[2],[1.0])|(208,[0,1,2,5,92,...|\n",
            "|Middle East and N...|         Algeria|         Fruits|      Offline|             C| 9/25/2012|516187322| 11/7/2012|     154.0|      9.33|     6.92|      1436.82|   1065.68|      371.14|            09/25/2012|           11/07/2012|           43|           3.0|            7.0|              0.0|                  0.0|                   0.0|         (6,[3],[1.0])|        (184,[7],[1.0])|           (11,[0],[1.0])|                (1,[0],[1.0])|                 (3,[0],[1.0])|(208,[0,1,2,6,16,...|\n",
            "|  Sub-Saharan Africa|        Tanzania|      Cosmetics|      Offline|             C|12/16/2012|376671254| 1/11/2013|    4249.0|     437.2|   263.33|    1857662.8| 1118889.1|    738773.6|            12/16/2012|           01/11/2013|           26|           0.0|           45.0|              3.0|                  0.0|                   0.0|         (6,[0],[1.0])|       (184,[45],[1.0])|           (11,[3],[1.0])|                (1,[0],[1.0])|                 (3,[0],[1.0])|(208,[0,1,2,3,54,...|\n",
            "|  Sub-Saharan Africa|         Burundi|      Cosmetics|      Offline|             M| 8/25/2016|557419526|10/11/2016|    1680.0|     437.2|   263.33|     734496.0|  442394.4|    292101.6|            08/25/2016|           10/11/2016|           47|           0.0|          161.0|              3.0|                  0.0|                   3.0|         (6,[0],[1.0])|      (184,[161],[1.0])|           (11,[3],[1.0])|                (1,[0],[1.0])|                     (3,[],[])|(208,[0,1,2,3,170...|\n",
            "|              Europe|         Georgia|         Snacks|      Offline|             M| 3/11/2015|657060372| 4/30/2015|    7620.0|    152.58|    97.44|    1162659.6|  742492.8|    420166.8|            03/11/2015|           04/30/2015|           50|           1.0|          183.0|              4.0|                  0.0|                   3.0|         (6,[1],[1.0])|      (184,[183],[1.0])|           (11,[4],[1.0])|                (1,[0],[1.0])|                     (3,[],[])|(208,[0,1,2,4,192...|\n",
            "|  Sub-Saharan Africa|        Botswana|      Beverages|      Offline|             L| 3/17/2013|717284762|  4/9/2013|    9356.0|     47.45|    31.79|     443942.2| 297427.25|   146514.95|            03/17/2013|           04/09/2013|           23|           0.0|           67.0|              5.0|                  0.0|                   1.0|         (6,[0],[1.0])|       (184,[67],[1.0])|           (11,[5],[1.0])|                (1,[0],[1.0])|                 (3,[1],[1.0])|(208,[0,1,2,3,76,...|\n",
            "|  Sub-Saharan Africa|      Cape Verde|      Baby Food|       Online|             L| 3/29/2017|911781394| 4/16/2017|    5231.0|    255.28|   159.42|    1335369.6|  833926.0|   501443.66|            03/29/2017|           04/16/2017|           18|           0.0|           14.0|              2.0|                  1.0|                   1.0|         (6,[0],[1.0])|       (184,[14],[1.0])|           (11,[2],[1.0])|                    (1,[],[])|                 (3,[1],[1.0])|(208,[0,1,2,3,23,...|\n",
            "|Australia and Oce...|Marshall Islands|Office Supplies|      Offline|             C| 8/26/2013|220405757|  9/7/2013|    1816.0|    651.21|   524.96|    1182597.4|  953327.4|    229270.0|            08/26/2013|           09/07/2013|           12|           5.0|           97.0|             10.0|                  0.0|                   0.0|         (6,[5],[1.0])|       (184,[97],[1.0])|          (11,[10],[1.0])|                (1,[0],[1.0])|                 (3,[0],[1.0])|(208,[0,1,2,8,106...|\n",
            "|Middle East and N...|           Syria|         Cereal|       Online|             M| 5/12/2017|368566262| 5/29/2017|    5802.0|     205.7|   117.11|    1193471.4| 679472.25|    513999.2|            05/12/2017|           05/29/2017|           17|           3.0|           53.0|              8.0|                  1.0|                   3.0|         (6,[3],[1.0])|       (184,[53],[1.0])|           (11,[8],[1.0])|                    (1,[],[])|                     (3,[],[])|(208,[0,1,2,6,62,...|\n",
            "|              Europe|       Lithuania|         Snacks|       Online|             H| 7/24/2012|924166333| 8/10/2012|     210.0|    152.58|    97.44|      32041.8|   20462.4|     11579.4|            07/24/2012|           08/10/2012|           17|           1.0|          104.0|              4.0|                  1.0|                   2.0|         (6,[1],[1.0])|      (184,[104],[1.0])|           (11,[4],[1.0])|                    (1,[],[])|                 (3,[2],[1.0])|(208,[0,1,2,4,113...|\n",
            "|Central America a...|            Cuba|      Cosmetics|      Offline|             H| 2/13/2011|966541802| 3/24/2011|      53.0|     437.2|   263.33|      23171.6|  13956.49|     9215.11|            02/13/2011|           03/24/2011|           39|           4.0|          146.0|              3.0|                  0.0|                   2.0|         (6,[4],[1.0])|      (184,[146],[1.0])|           (11,[3],[1.0])|                (1,[0],[1.0])|                 (3,[2],[1.0])|(208,[0,1,2,7,155...|\n",
            "|Australia and Oce...|        Kiribati|  Personal Care|       Online|             C| 5/29/2010|644016253| 6/11/2010|    7576.0|     81.73|    56.67|     619186.5|  429331.9|   189854.56|            05/29/2010|           06/11/2010|           13|           5.0|          154.0|              1.0|                  1.0|                   0.0|         (6,[5],[1.0])|      (184,[154],[1.0])|           (11,[1],[1.0])|                    (1,[],[])|                 (3,[0],[1.0])|(208,[0,1,2,8,163...|\n",
            "|                Asia|        Thailand|     Vegetables|       Online|             M| 7/31/2011|393505656| 8/27/2011|    5923.0|    154.06|    90.93|     912497.4|  538578.4|    373919.0|            07/31/2011|           08/27/2011|           27|           2.0|           22.0|             11.0|                  1.0|                   3.0|         (6,[2],[1.0])|       (184,[22],[1.0])|               (11,[],[])|                    (1,[],[])|                     (3,[],[])|(208,[0,1,2,5,31]...|\n",
            "|Central America a...|     Saint Lucia|      Cosmetics|      Offline|             M| 4/25/2013|291513478| 5/28/2013|    4171.0|     437.2|   263.33|    1823561.2| 1098349.4|   725211.75|            04/25/2013|           05/28/2013|           33|           4.0|           77.0|              3.0|                  0.0|                   3.0|         (6,[4],[1.0])|       (184,[77],[1.0])|           (11,[3],[1.0])|                (1,[0],[1.0])|                     (3,[],[])|(208,[0,1,2,7,86,...|\n",
            "|              Europe|           Malta|         Snacks|       Online|             C|  1/2/2011|823392522| 2/15/2011|    9000.0|    152.58|    97.44|    1373220.0|  876960.0|    496260.0|            01/02/2011|           02/15/2011|           44|           1.0|           56.0|              4.0|                  1.0|                   0.0|         (6,[1],[1.0])|       (184,[56],[1.0])|           (11,[4],[1.0])|                    (1,[],[])|                 (3,[0],[1.0])|(208,[0,1,2,4,65,...|\n",
            "|Central America a...|        Dominica|         Cereal|       Online|             C|12/30/2015|423932635|  1/3/2016|    9942.0|     205.7|   117.11|    2045069.4| 1164307.6|   880761.75|            12/30/2015|           01/03/2016|            4|           4.0|          132.0|              8.0|                  1.0|                   0.0|         (6,[4],[1.0])|      (184,[132],[1.0])|           (11,[8],[1.0])|                    (1,[],[])|                 (3,[0],[1.0])|(208,[0,1,2,7,141...|\n",
            "|  Sub-Saharan Africa|        Ethiopia|      Baby Food|      Offline|             L| 6/12/2011|176913630| 6/19/2011|    1530.0|    255.28|   159.42|     390578.4|  243912.6|    146665.8|            06/12/2011|           06/19/2011|            7|           0.0|           11.0|              2.0|                  0.0|                   1.0|         (6,[0],[1.0])|       (184,[11],[1.0])|           (11,[2],[1.0])|                (1,[0],[1.0])|                 (3,[1],[1.0])|(208,[0,1,2,3,20,...|\n",
            "|       North America|          Canada|         Snacks|      Offline|             M|11/25/2013|280475223|12/22/2013|    7706.0|    152.58|    97.44|    1175781.5|  750872.6|   424908.84|            11/25/2013|           12/22/2013|           27|           6.0|           89.0|              4.0|                  0.0|                   3.0|             (6,[],[])|       (184,[89],[1.0])|           (11,[4],[1.0])|                (1,[0],[1.0])|                     (3,[],[])|(208,[0,1,2,98,19...|\n",
            "|              Europe|           Italy|      Baby Food|      Offline|             L| 9/10/2014|204267442|10/11/2014|    6130.0|    255.28|   159.42|    1564866.4|  977244.6|    587621.8|            09/10/2014|           10/11/2014|           31|           1.0|           15.0|              2.0|                  0.0|                   1.0|         (6,[1],[1.0])|       (184,[15],[1.0])|           (11,[2],[1.0])|                (1,[0],[1.0])|                 (3,[1],[1.0])|(208,[0,1,2,4,24,...|\n",
            "+--------------------+----------------+---------------+-------------+--------------+----------+---------+----------+----------+----------+---------+-------------+----------+------------+----------------------+---------------------+-------------+--------------+---------------+-----------------+---------------------+----------------------+----------------------+-----------------------+-------------------------+-----------------------------+------------------------------+--------------------+\n",
            "only showing top 20 rows\n",
            "\n"
          ]
        }
      ]
    },
    {
      "cell_type": "markdown",
      "source": [
        "## **Dropping some columns after feature engineering and data cleaning and keeping only the columns that will be used during modeling**"
      ],
      "metadata": {
        "id": "-6Wdx5VXeTu2"
      }
    },
    {
      "cell_type": "code",
      "source": [
        "columns_to_drop=['Order ID','Total Revenue','Total Cost','Order Date','Ship Date','Reformatted Order Date','Reformatted Ship Date']\n",
        "final_features=final_features.drop(*(columns_to_drop))"
      ],
      "metadata": {
        "id": "7WWsryj-JuTx"
      },
      "execution_count": null,
      "outputs": []
    },
    {
      "cell_type": "code",
      "source": [
        "df.show()"
      ],
      "metadata": {
        "id": "9_qbdbj4KRs3",
        "colab": {
          "base_uri": "https://localhost:8080/"
        },
        "outputId": "061e7102-1660-40dd-da01-e9be61a6ebd9"
      },
      "execution_count": null,
      "outputs": [
        {
          "output_type": "stream",
          "name": "stdout",
          "text": [
            "+--------------------+----------------+---------------+-------------+--------------+----------+---------+----------+----------+----------+---------+-------------+----------+------------+----------------------+---------------------+-------------+\n",
            "|              Region|         Country|      Item Type|Sales Channel|Order Priority|Order Date| Order ID| Ship Date|Units Sold|Unit Price|Unit Cost|Total Revenue|Total Cost|Total Profit|Reformatted Order Date|Reformatted Ship Date|Shipping days|\n",
            "+--------------------+----------------+---------------+-------------+--------------+----------+---------+----------+----------+----------+---------+-------------+----------+------------+----------------------+---------------------+-------------+\n",
            "|  Sub-Saharan Africa|          Malawi|      Household|      Offline|             H| 4/24/2012|358857953| 5/14/2012|    2898.0|    668.27|   502.54|    1936646.5| 1456360.9|   480285.53|            04/24/2012|           05/14/2012|           20|\n",
            "|                Asia|           Nepal|  Personal Care|       Online|             H| 5/20/2011|543531262|  6/3/2011|    1834.0|     81.73|    56.67|    149892.81| 103932.78|    45960.04|            05/20/2011|           06/03/2011|           14|\n",
            "|Middle East and N...|         Algeria|         Fruits|      Offline|             C| 9/25/2012|516187322| 11/7/2012|     154.0|      9.33|     6.92|      1436.82|   1065.68|      371.14|            09/25/2012|           11/07/2012|           43|\n",
            "|  Sub-Saharan Africa|        Tanzania|      Cosmetics|      Offline|             C|12/16/2012|376671254| 1/11/2013|    4249.0|     437.2|   263.33|    1857662.8| 1118889.1|    738773.6|            12/16/2012|           01/11/2013|           26|\n",
            "|  Sub-Saharan Africa|         Burundi|      Cosmetics|      Offline|             M| 8/25/2016|557419526|10/11/2016|    1680.0|     437.2|   263.33|     734496.0|  442394.4|    292101.6|            08/25/2016|           10/11/2016|           47|\n",
            "|              Europe|         Georgia|         Snacks|      Offline|             M| 3/11/2015|657060372| 4/30/2015|    7620.0|    152.58|    97.44|    1162659.6|  742492.8|    420166.8|            03/11/2015|           04/30/2015|           50|\n",
            "|  Sub-Saharan Africa|        Botswana|      Beverages|      Offline|             L| 3/17/2013|717284762|  4/9/2013|    9356.0|     47.45|    31.79|     443942.2| 297427.25|   146514.95|            03/17/2013|           04/09/2013|           23|\n",
            "|  Sub-Saharan Africa|      Cape Verde|      Baby Food|       Online|             L| 3/29/2017|911781394| 4/16/2017|    5231.0|    255.28|   159.42|    1335369.6|  833926.0|   501443.66|            03/29/2017|           04/16/2017|           18|\n",
            "|Australia and Oce...|Marshall Islands|Office Supplies|      Offline|             C| 8/26/2013|220405757|  9/7/2013|    1816.0|    651.21|   524.96|    1182597.4|  953327.4|    229270.0|            08/26/2013|           09/07/2013|           12|\n",
            "|Middle East and N...|           Syria|         Cereal|       Online|             M| 5/12/2017|368566262| 5/29/2017|    5802.0|     205.7|   117.11|    1193471.4| 679472.25|    513999.2|            05/12/2017|           05/29/2017|           17|\n",
            "|              Europe|       Lithuania|         Snacks|       Online|             H| 7/24/2012|924166333| 8/10/2012|     210.0|    152.58|    97.44|      32041.8|   20462.4|     11579.4|            07/24/2012|           08/10/2012|           17|\n",
            "|Central America a...|            Cuba|      Cosmetics|      Offline|             H| 2/13/2011|966541802| 3/24/2011|      53.0|     437.2|   263.33|      23171.6|  13956.49|     9215.11|            02/13/2011|           03/24/2011|           39|\n",
            "|Australia and Oce...|        Kiribati|  Personal Care|       Online|             C| 5/29/2010|644016253| 6/11/2010|    7576.0|     81.73|    56.67|     619186.5|  429331.9|   189854.56|            05/29/2010|           06/11/2010|           13|\n",
            "|                Asia|        Thailand|     Vegetables|       Online|             M| 7/31/2011|393505656| 8/27/2011|    5923.0|    154.06|    90.93|     912497.4|  538578.4|    373919.0|            07/31/2011|           08/27/2011|           27|\n",
            "|Central America a...|     Saint Lucia|      Cosmetics|      Offline|             M| 4/25/2013|291513478| 5/28/2013|    4171.0|     437.2|   263.33|    1823561.2| 1098349.4|   725211.75|            04/25/2013|           05/28/2013|           33|\n",
            "|              Europe|           Malta|         Snacks|       Online|             C|  1/2/2011|823392522| 2/15/2011|    9000.0|    152.58|    97.44|    1373220.0|  876960.0|    496260.0|            01/02/2011|           02/15/2011|           44|\n",
            "|Central America a...|        Dominica|         Cereal|       Online|             C|12/30/2015|423932635|  1/3/2016|    9942.0|     205.7|   117.11|    2045069.4| 1164307.6|   880761.75|            12/30/2015|           01/03/2016|            4|\n",
            "|  Sub-Saharan Africa|        Ethiopia|      Baby Food|      Offline|             L| 6/12/2011|176913630| 6/19/2011|    1530.0|    255.28|   159.42|     390578.4|  243912.6|    146665.8|            06/12/2011|           06/19/2011|            7|\n",
            "|       North America|          Canada|         Snacks|      Offline|             M|11/25/2013|280475223|12/22/2013|    7706.0|    152.58|    97.44|    1175781.5|  750872.6|   424908.84|            11/25/2013|           12/22/2013|           27|\n",
            "|              Europe|           Italy|      Baby Food|      Offline|             L| 9/10/2014|204267442|10/11/2014|    6130.0|    255.28|   159.42|    1564866.4|  977244.6|    587621.8|            09/10/2014|           10/11/2014|           31|\n",
            "+--------------------+----------------+---------------+-------------+--------------+----------+---------+----------+----------+----------+---------+-------------+----------+------------+----------------------+---------------------+-------------+\n",
            "only showing top 20 rows\n",
            "\n"
          ]
        }
      ]
    },
    {
      "cell_type": "code",
      "source": [
        "final_features.select(\"features\",\"Total Profit\").show()"
      ],
      "metadata": {
        "id": "joko4juZx-N4",
        "colab": {
          "base_uri": "https://localhost:8080/"
        },
        "outputId": "d0f652b8-eac8-49ea-f126-b71623287e0b"
      },
      "execution_count": null,
      "outputs": [
        {
          "output_type": "stream",
          "name": "stdout",
          "text": [
            "+--------------------+------------+\n",
            "|            features|Total Profit|\n",
            "+--------------------+------------+\n",
            "|(208,[0,1,2,3,71,...|   480285.53|\n",
            "|(208,[0,1,2,5,92,...|    45960.04|\n",
            "|(208,[0,1,2,6,16,...|      371.14|\n",
            "|(208,[0,1,2,3,54,...|    738773.6|\n",
            "|(208,[0,1,2,3,170...|    292101.6|\n",
            "|(208,[0,1,2,4,192...|    420166.8|\n",
            "|(208,[0,1,2,3,76,...|   146514.95|\n",
            "|(208,[0,1,2,3,23,...|   501443.66|\n",
            "|(208,[0,1,2,8,106...|    229270.0|\n",
            "|(208,[0,1,2,6,62,...|    513999.2|\n",
            "|(208,[0,1,2,4,113...|     11579.4|\n",
            "|(208,[0,1,2,7,155...|     9215.11|\n",
            "|(208,[0,1,2,8,163...|   189854.56|\n",
            "|(208,[0,1,2,5,31]...|    373919.0|\n",
            "|(208,[0,1,2,7,86,...|   725211.75|\n",
            "|(208,[0,1,2,4,65,...|    496260.0|\n",
            "|(208,[0,1,2,7,141...|   880761.75|\n",
            "|(208,[0,1,2,3,20,...|    146665.8|\n",
            "|(208,[0,1,2,98,19...|   424908.84|\n",
            "|(208,[0,1,2,4,24,...|    587621.8|\n",
            "+--------------------+------------+\n",
            "only showing top 20 rows\n",
            "\n"
          ]
        }
      ]
    },
    {
      "cell_type": "markdown",
      "source": [
        "## **Splitting the data into 80% training and 20% testing**"
      ],
      "metadata": {
        "id": "NiroNCQzjuvn"
      }
    },
    {
      "cell_type": "code",
      "source": [
        "train_df , test_df= final_features.randomSplit([0.8,0.2])"
      ],
      "metadata": {
        "id": "qV02O1Vw0-vr"
      },
      "execution_count": null,
      "outputs": []
    },
    {
      "cell_type": "code",
      "source": [
        "test_df.show()"
      ],
      "metadata": {
        "id": "mGfDZqxf1JN9",
        "colab": {
          "base_uri": "https://localhost:8080/"
        },
        "outputId": "ba7a70bd-3422-4c68-e8c5-44ff78af73eb"
      },
      "execution_count": null,
      "outputs": [
        {
          "output_type": "stream",
          "name": "stdout",
          "text": [
            "+------+----------+---------+-------------+--------------+----------+----------+---------+------------+-------------+--------------+---------------+-----------------+---------------------+----------------------+----------------------+-----------------------+-------------------------+-----------------------------+------------------------------+--------------------+\n",
            "|Region|   Country|Item Type|Sales Channel|Order Priority|Units Sold|Unit Price|Unit Cost|Total Profit|Shipping days|Region_indexed|Country_indexed|Item Type_indexed|Sales Channel_indexed|Order Priority_indexed|Region_indexed_encoded|Country_indexed_encoded|Item Type_indexed_encoded|Sales Channel_indexed_encoded|Order Priority_indexed_encoded|            features|\n",
            "+------+----------+---------+-------------+--------------+----------+----------+---------+------------+-------------+--------------+---------------+-----------------+---------------------+----------------------+----------------------+-----------------------+-------------------------+-----------------------------+------------------------------+--------------------+\n",
            "|  Asia|Bangladesh|Baby Food|      Offline|             C|     671.0|    255.28|   159.42|    64322.06|            2|           2.0|          126.0|              2.0|                  0.0|                   0.0|         (6,[2],[1.0])|      (184,[126],[1.0])|           (11,[2],[1.0])|                (1,[0],[1.0])|                 (3,[0],[1.0])|(208,[0,1,2,5,135...|\n",
            "|  Asia|Bangladesh|Baby Food|      Offline|             C|    4567.0|    255.28|   159.42|   437792.62|           14|           2.0|          126.0|              2.0|                  0.0|                   0.0|         (6,[2],[1.0])|      (184,[126],[1.0])|           (11,[2],[1.0])|                (1,[0],[1.0])|                 (3,[0],[1.0])|(208,[0,1,2,5,135...|\n",
            "|  Asia|Bangladesh|Baby Food|      Offline|             C|    5867.0|    255.28|   159.42|    562410.6|            4|           2.0|          126.0|              2.0|                  0.0|                   0.0|         (6,[2],[1.0])|      (184,[126],[1.0])|           (11,[2],[1.0])|                (1,[0],[1.0])|                 (3,[0],[1.0])|(208,[0,1,2,5,135...|\n",
            "|  Asia|Bangladesh|Baby Food|      Offline|             C|    6421.0|    255.28|   159.42|   615517.06|           25|           2.0|          126.0|              2.0|                  0.0|                   0.0|         (6,[2],[1.0])|      (184,[126],[1.0])|           (11,[2],[1.0])|                (1,[0],[1.0])|                 (3,[0],[1.0])|(208,[0,1,2,5,135...|\n",
            "|  Asia|Bangladesh|Baby Food|      Offline|             C|    8511.0|    255.28|   159.42|   815864.44|           45|           2.0|          126.0|              2.0|                  0.0|                   0.0|         (6,[2],[1.0])|      (184,[126],[1.0])|           (11,[2],[1.0])|                (1,[0],[1.0])|                 (3,[0],[1.0])|(208,[0,1,2,5,135...|\n",
            "|  Asia|Bangladesh|Baby Food|      Offline|             C|    8759.0|    255.28|   159.42|   839637.75|           18|           2.0|          126.0|              2.0|                  0.0|                   0.0|         (6,[2],[1.0])|      (184,[126],[1.0])|           (11,[2],[1.0])|                (1,[0],[1.0])|                 (3,[0],[1.0])|(208,[0,1,2,5,135...|\n",
            "|  Asia|Bangladesh|Baby Food|      Offline|             H|     760.0|    255.28|   159.42|     72853.6|           45|           2.0|          126.0|              2.0|                  0.0|                   2.0|         (6,[2],[1.0])|      (184,[126],[1.0])|           (11,[2],[1.0])|                (1,[0],[1.0])|                 (3,[2],[1.0])|(208,[0,1,2,5,135...|\n",
            "|  Asia|Bangladesh|Baby Food|      Offline|             H|    1563.0|    255.28|   159.42|   149829.19|           39|           2.0|          126.0|              2.0|                  0.0|                   2.0|         (6,[2],[1.0])|      (184,[126],[1.0])|           (11,[2],[1.0])|                (1,[0],[1.0])|                 (3,[2],[1.0])|(208,[0,1,2,5,135...|\n",
            "|  Asia|Bangladesh|Baby Food|      Offline|             H|    1811.0|    255.28|   159.42|   173602.45|           12|           2.0|          126.0|              2.0|                  0.0|                   2.0|         (6,[2],[1.0])|      (184,[126],[1.0])|           (11,[2],[1.0])|                (1,[0],[1.0])|                 (3,[2],[1.0])|(208,[0,1,2,5,135...|\n",
            "|  Asia|Bangladesh|Baby Food|      Offline|             H|    2059.0|    255.28|   159.42|   197375.73|           33|           2.0|          126.0|              2.0|                  0.0|                   2.0|         (6,[2],[1.0])|      (184,[126],[1.0])|           (11,[2],[1.0])|                (1,[0],[1.0])|                 (3,[2],[1.0])|(208,[0,1,2,5,135...|\n",
            "|  Asia|Bangladesh|Baby Food|      Offline|             H|    4132.0|    255.28|   159.42|   396093.53|            1|           2.0|          126.0|              2.0|                  0.0|                   2.0|         (6,[2],[1.0])|      (184,[126],[1.0])|           (11,[2],[1.0])|                (1,[0],[1.0])|                 (3,[2],[1.0])|(208,[0,1,2,5,135...|\n",
            "|  Asia|Bangladesh|Baby Food|      Offline|             H|    5329.0|    255.28|   159.42|   510837.94|           35|           2.0|          126.0|              2.0|                  0.0|                   2.0|         (6,[2],[1.0])|      (184,[126],[1.0])|           (11,[2],[1.0])|                (1,[0],[1.0])|                 (3,[2],[1.0])|(208,[0,1,2,5,135...|\n",
            "|  Asia|Bangladesh|Baby Food|      Offline|             H|    5559.0|    255.28|   159.42|   532885.75|            2|           2.0|          126.0|              2.0|                  0.0|                   2.0|         (6,[2],[1.0])|      (184,[126],[1.0])|           (11,[2],[1.0])|                (1,[0],[1.0])|                 (3,[2],[1.0])|(208,[0,1,2,5,135...|\n",
            "|  Asia|Bangladesh|Baby Food|      Offline|             H|    7401.0|    255.28|   159.42|    709459.9|            0|           2.0|          126.0|              2.0|                  0.0|                   2.0|         (6,[2],[1.0])|      (184,[126],[1.0])|           (11,[2],[1.0])|                (1,[0],[1.0])|                 (3,[2],[1.0])|(208,[0,1,5,135,1...|\n",
            "|  Asia|Bangladesh|Baby Food|      Offline|             H|    7490.0|    255.28|   159.42|    717991.4|           43|           2.0|          126.0|              2.0|                  0.0|                   2.0|         (6,[2],[1.0])|      (184,[126],[1.0])|           (11,[2],[1.0])|                (1,[0],[1.0])|                 (3,[2],[1.0])|(208,[0,1,2,5,135...|\n",
            "|  Asia|Bangladesh|Baby Food|      Offline|             H|    8275.0|    255.28|   159.42|    793241.5|           34|           2.0|          126.0|              2.0|                  0.0|                   2.0|         (6,[2],[1.0])|      (184,[126],[1.0])|           (11,[2],[1.0])|                (1,[0],[1.0])|                 (3,[2],[1.0])|(208,[0,1,2,5,135...|\n",
            "|  Asia|Bangladesh|Baby Food|      Offline|             H|    8847.0|    255.28|   159.42|   848073.44|            7|           2.0|          126.0|              2.0|                  0.0|                   2.0|         (6,[2],[1.0])|      (184,[126],[1.0])|           (11,[2],[1.0])|                (1,[0],[1.0])|                 (3,[2],[1.0])|(208,[0,1,2,5,135...|\n",
            "|  Asia|Bangladesh|Baby Food|      Offline|             L|      70.0|    255.28|   159.42|      6710.2|           15|           2.0|          126.0|              2.0|                  0.0|                   1.0|         (6,[2],[1.0])|      (184,[126],[1.0])|           (11,[2],[1.0])|                (1,[0],[1.0])|                 (3,[1],[1.0])|(208,[0,1,2,5,135...|\n",
            "|  Asia|Bangladesh|Baby Food|      Offline|             L|     566.0|    255.28|   159.42|    54256.76|            9|           2.0|          126.0|              2.0|                  0.0|                   1.0|         (6,[2],[1.0])|      (184,[126],[1.0])|           (11,[2],[1.0])|                (1,[0],[1.0])|                 (3,[1],[1.0])|(208,[0,1,2,5,135...|\n",
            "|  Asia|Bangladesh|Baby Food|      Offline|             L|    1427.0|    255.28|   159.42|   136792.22|           30|           2.0|          126.0|              2.0|                  0.0|                   1.0|         (6,[2],[1.0])|      (184,[126],[1.0])|           (11,[2],[1.0])|                (1,[0],[1.0])|                 (3,[1],[1.0])|(208,[0,1,2,5,135...|\n",
            "+------+----------+---------+-------------+--------------+----------+----------+---------+------------+-------------+--------------+---------------+-----------------+---------------------+----------------------+----------------------+-----------------------+-------------------------+-----------------------------+------------------------------+--------------------+\n",
            "only showing top 20 rows\n",
            "\n"
          ]
        }
      ]
    },
    {
      "cell_type": "markdown",
      "source": [
        "## **Linear Regression model**"
      ],
      "metadata": {
        "id": "J8leRlawkO7p"
      }
    },
    {
      "cell_type": "code",
      "source": [
        "model=LinearRegression(featuresCol='features',labelCol='Total Profit')\n",
        "Linear_reg_model=model.fit(train_df)"
      ],
      "metadata": {
        "id": "WSWfnK1R1Shu"
      },
      "execution_count": null,
      "outputs": []
    },
    {
      "cell_type": "code",
      "source": [
        "Linear_reg_model_summary=Linear_reg_model.summary\n",
        "#print(\"RMSE on training data: \",Linear_reg_model_summary.rootMeanSquaredError)\n",
        "print(\"R2 score on training data: \",Linear_reg_model_summary.r2)"
      ],
      "metadata": {
        "id": "Jw4W9UYb2Eb8",
        "colab": {
          "base_uri": "https://localhost:8080/"
        },
        "outputId": "5b5fc83e-e028-4cda-bfa2-c82fdcb6063c"
      },
      "execution_count": null,
      "outputs": [
        {
          "output_type": "stream",
          "name": "stdout",
          "text": [
            "R2 score on training data:  0.4828501394296415\n"
          ]
        }
      ]
    },
    {
      "cell_type": "code",
      "source": [
        "preds=Linear_reg_model.transform(test_df)\n",
        "evaluator=RegressionEvaluator(labelCol=\"Total Profit\",predictionCol=\"prediction\",metricName=\"r2\")\n",
        "print(\"R2 score on test data is: \"+str(evaluator.evaluate(preds)))"
      ],
      "metadata": {
        "id": "9C3ypdUE3OlW",
        "colab": {
          "base_uri": "https://localhost:8080/"
        },
        "outputId": "1505ba8e-2280-4c1a-97d4-3cbd4f3d7f59"
      },
      "execution_count": null,
      "outputs": [
        {
          "output_type": "stream",
          "name": "stdout",
          "text": [
            "R2 score on test data is: 0.4803826735352318\n"
          ]
        }
      ]
    },
    {
      "cell_type": "markdown",
      "source": [
        "## **Random Forest Regression**"
      ],
      "metadata": {
        "id": "5XdG0cmlkdNs"
      }
    },
    {
      "cell_type": "code",
      "source": [
        "RF=RandomForestRegressor(featuresCol=\"features\",labelCol=\"Total Profit\")\n",
        "RF_Model_reg=RF.fit(train_df)"
      ],
      "metadata": {
        "id": "AL-FfKME5ax7"
      },
      "execution_count": null,
      "outputs": []
    },
    {
      "cell_type": "code",
      "source": [
        "RF_preds_train=RF_Model_reg.transform(train_df)\n",
        "evaluator=RegressionEvaluator(labelCol=\"Total Profit\",predictionCol=\"prediction\",metricName=\"r2\")\n",
        "print(\"R2 score on train data is: \"+str(evaluator.evaluate(RF_preds_train)))"
      ],
      "metadata": {
        "id": "-Uoh4OdL7ZMp",
        "colab": {
          "base_uri": "https://localhost:8080/"
        },
        "outputId": "3793d8db-4052-4e9b-94e9-1e3bad75563b"
      },
      "execution_count": null,
      "outputs": [
        {
          "output_type": "stream",
          "name": "stdout",
          "text": [
            "R2 score on train data is: 0.4798028302236652\n"
          ]
        }
      ]
    },
    {
      "cell_type": "code",
      "source": [
        "RF_preds_test=RF_Model_reg.transform(test_df)\n",
        "evaluator=RegressionEvaluator(labelCol=\"Total Profit\",predictionCol=\"prediction\",metricName=\"r2\")\n",
        "print(\"R2 score on test data is: \"+str(evaluator.evaluate(RF_preds_test)))"
      ],
      "metadata": {
        "id": "iRy-IFP66J2D",
        "colab": {
          "base_uri": "https://localhost:8080/"
        },
        "outputId": "cec89c0f-c4ff-4aed-97e6-64ea1b7c58e4"
      },
      "execution_count": null,
      "outputs": [
        {
          "output_type": "stream",
          "name": "stdout",
          "text": [
            "R2 score on test data is: 0.47722794815997105\n"
          ]
        }
      ]
    },
    {
      "cell_type": "markdown",
      "source": [
        "## **Gradient-boosted tree regression**"
      ],
      "metadata": {
        "id": "ZV1u5QV4psYd"
      }
    },
    {
      "cell_type": "code",
      "source": [
        "GBT=GBTRegressor(featuresCol=\"features\",labelCol=\"Total Profit\")\n",
        "GBT_model=GBT.fit(train_df)"
      ],
      "metadata": {
        "id": "FSO31iqgqGRn"
      },
      "execution_count": null,
      "outputs": []
    },
    {
      "cell_type": "code",
      "source": [
        "GBT_preds_train=GBT_model.transform(train_df)\n",
        "evaluator=RegressionEvaluator(labelCol=\"Total Profit\",predictionCol=\"prediction\",metricName=\"r2\")\n",
        "print(\"R2 score on train data is: \"+str(evaluator.evaluate(GBT_preds_train)))"
      ],
      "metadata": {
        "id": "HxU4I__lqgAy",
        "colab": {
          "base_uri": "https://localhost:8080/"
        },
        "outputId": "928ce5cb-f66f-406a-99a6-268f3f4aeb51"
      },
      "execution_count": null,
      "outputs": [
        {
          "output_type": "stream",
          "name": "stdout",
          "text": [
            "R2 score on train data is: 0.48337291955989126\n"
          ]
        }
      ]
    },
    {
      "cell_type": "code",
      "source": [
        "GBT_preds_test=GBT_model.transform(test_df)\n",
        "evaluator=RegressionEvaluator(labelCol=\"Total Profit\",predictionCol=\"prediction\",metricName=\"r2\")\n",
        "print(\"R2 score on train data is: \"+str(evaluator.evaluate(GBT_preds_test)))"
      ],
      "metadata": {
        "id": "q5frf4u1qkfB",
        "colab": {
          "base_uri": "https://localhost:8080/"
        },
        "outputId": "c0cbec13-3e46-414f-98c2-de61db2b74c0"
      },
      "execution_count": null,
      "outputs": [
        {
          "output_type": "stream",
          "name": "stdout",
          "text": [
            "R2 score on train data is: 0.480178240809525\n"
          ]
        }
      ]
    }
  ]
}