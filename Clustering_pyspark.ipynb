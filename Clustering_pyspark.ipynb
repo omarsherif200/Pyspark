{
  "cells": [
    {
      "cell_type": "markdown",
      "source": [
        "### Dataset Link: https://www.kaggle.com/competitions/ventilator-pressure-prediction/data\n",
        "### Columns\n",
        "- id - globally-unique time step identifier across an entire file\n",
        "breath_id - globally-unique time step for breaths\n",
        "- R - lung attribute indicating how restricted the airway is (in cmH2O/L/S). Physically, this is the change in pressure per change in flow (air volume per time). Intuitively, one can imagine blowing up a balloon through a straw. We can change R by changing the diameter of the straw, with higher R being harder to blow.\n",
        "- C - lung attribute indicating how compliant the lung is (in mL/cmH2O). Physically, this is the change in volume per change in pressure. Intuitively, one can imagine the same balloon example. We can change C by changing the thickness of the balloon’s latex, with higher C having thinner latex and easier to blow.\n",
        "- time_step - the actual time stamp.\n",
        "- u_in - the control input for the inspiratory solenoid valve. Ranges from 0 to 100.\n",
        "- u_out - the control input for the exploratory solenoid valve. Either 0 or 1.\n",
        "- pressure - the airway pressure measured in the respiratory circuit, measured in cmH2O."
      ],
      "metadata": {
        "id": "Ca3H59shcmP6"
      }
    },
    {
      "cell_type": "code",
      "execution_count": null,
      "metadata": {
        "colab": {
          "base_uri": "https://localhost:8080/"
        },
        "id": "_ppD6uLrU4rz",
        "outputId": "0154011a-ca2f-4391-d705-22fd00149fbc"
      },
      "outputs": [
        {
          "output_type": "stream",
          "name": "stdout",
          "text": [
            "Collecting pyspark\n",
            "  Downloading pyspark-3.2.1.tar.gz (281.4 MB)\n",
            "\u001b[K     |████████████████████████████████| 281.4 MB 39 kB/s \n",
            "\u001b[?25hCollecting py4j==0.10.9.3\n",
            "  Downloading py4j-0.10.9.3-py2.py3-none-any.whl (198 kB)\n",
            "\u001b[K     |████████████████████████████████| 198 kB 57.9 MB/s \n",
            "\u001b[?25hBuilding wheels for collected packages: pyspark\n",
            "  Building wheel for pyspark (setup.py) ... \u001b[?25l\u001b[?25hdone\n",
            "  Created wheel for pyspark: filename=pyspark-3.2.1-py2.py3-none-any.whl size=281853642 sha256=96259643baa5596e63b132f04c26d89727ff572c1fd9c9774706392a9bbd7bfe\n",
            "  Stored in directory: /root/.cache/pip/wheels/9f/f5/07/7cd8017084dce4e93e84e92efd1e1d5334db05f2e83bcef74f\n",
            "Successfully built pyspark\n",
            "Installing collected packages: py4j, pyspark\n",
            "Successfully installed py4j-0.10.9.3 pyspark-3.2.1\n"
          ]
        }
      ],
      "source": [
        "!pip install pyspark"
      ]
    },
    {
      "cell_type": "code",
      "execution_count": null,
      "metadata": {
        "id": "zj14iDHhU_RD"
      },
      "outputs": [],
      "source": [
        "\n",
        "import pandas as pd\n",
        "import numpy as np\n",
        "import pyspark\n",
        "from pyspark.sql import SparkSession\n",
        "from pyspark.mllib.stat import Statistics\n",
        "from pyspark.sql.functions import col, count ,isnan , when ,datediff ,date_format , to_date , to_timestamp ,lit\n",
        "from pyspark.ml import Pipeline\n",
        "from pyspark.ml.feature import OneHotEncoder , StringIndexer , VectorAssembler ,StandardScaler,Normalizer\n",
        "from pyspark.ml.clustering import KMeans , KMeansModel\n",
        "from pyspark.ml.evaluation import  ClusteringEvaluator"
      ]
    },
    {
      "cell_type": "markdown",
      "source": [
        "## **Load Data**"
      ],
      "metadata": {
        "id": "QLuUSi50Zk9R"
      }
    },
    {
      "cell_type": "code",
      "execution_count": null,
      "metadata": {
        "id": "yOgKaB90VCTW"
      },
      "outputs": [],
      "source": [
        "spark=SparkSession.builder.appName(\"Clustering\").getOrCreate()"
      ]
    },
    {
      "cell_type": "code",
      "execution_count": null,
      "metadata": {
        "id": "lQj_I-9hVJ9o"
      },
      "outputs": [],
      "source": [
        "df=spark.read.csv(\"/content/drive/MyDrive/ventilator pressure.csv\",header=True)"
      ]
    },
    {
      "cell_type": "code",
      "execution_count": null,
      "metadata": {
        "colab": {
          "base_uri": "https://localhost:8080/"
        },
        "id": "6OruHzntVmsQ",
        "outputId": "c6d420b7-5630-4fb1-9ad9-89b3500fe113"
      },
      "outputs": [
        {
          "output_type": "stream",
          "name": "stdout",
          "text": [
            "+---+---------+---+---+--------------------+-------------------+-----+------------------+\n",
            "| id|breath_id|  R|  C|           time_step|               u_in|u_out|          pressure|\n",
            "+---+---------+---+---+--------------------+-------------------+-----+------------------+\n",
            "|  1|        1| 20| 50|                   0|0.08333400563464438|    0| 5.837491705069121|\n",
            "|  2|        1| 20| 50|0.033652305603027344| 18.383041472634716|    0|5.9077938505203464|\n",
            "|  3|        1| 20| 50| 0.06751441955566406| 22.509277769756217|    0| 7.876253923154396|\n",
            "|  4|        1| 20| 50| 0.10154223442077637| 22.808822256996738|    0|11.742871922971284|\n",
            "|  5|        1| 20| 50|  0.1357555389404297| 25.355850299494183|    0|12.234986941129785|\n",
            "|  6|        1| 20| 50| 0.16969776153564453| 27.259865858889704|    0|12.867706250190738|\n",
            "|  7|        1| 20| 50| 0.20370793342590332| 27.127485642715275|    0|14.695562031922366|\n",
            "|  8|        1| 20| 50| 0.23772263526916504| 26.807731765059422|    0| 15.89069850459303|\n",
            "|  9|        1| 20| 50|  0.2717764377593994| 27.864715400876207|    0|15.539187777336963|\n",
            "| 10|        1| 20| 50| 0.30573177337646484| 28.313035787530865|    0|15.750094213690609|\n",
            "| 11|        1| 20| 50|  0.3396749496459961| 26.866758222809004|    0| 17.29674141361735|\n",
            "| 12|        1| 20| 50| 0.37368035316467285| 26.762802645567856|    0|17.226439268166143|\n",
            "| 13|        1| 20| 50|  0.4076502323150635| 27.993273574547004|    0|  16.1719070863979|\n",
            "| 14|        1| 20| 50|  0.4418041706085205|  26.78989799060014|    0|17.367043559068577|\n",
            "| 15|        1| 20| 50|  0.4761028289794922| 25.634069990171373|    0|18.070065013580738|\n",
            "| 16|        1| 20| 50|   0.509995698928833| 26.280195294076233|    0| 17.15613712271493|\n",
            "| 17|        1| 20| 50|  0.5440406799316406|  24.72671437050219|    0|18.280971449934384|\n",
            "| 18|        1| 20| 50|   0.578178882598877| 23.467888640240616|    0|18.773086468092902|\n",
            "| 19|        1| 20| 50|  0.6121094226837158|  23.85843417890366|    0|17.859158577227095|\n",
            "| 20|        1| 20| 50|   0.646054744720459| 21.883403534000028|    0|19.124597195348983|\n",
            "+---+---------+---+---+--------------------+-------------------+-----+------------------+\n",
            "only showing top 20 rows\n",
            "\n"
          ]
        }
      ],
      "source": [
        "df.show()"
      ]
    },
    {
      "cell_type": "markdown",
      "source": [
        "## **Displaying the types of Dataframe columns**"
      ],
      "metadata": {
        "id": "G0q4qg7VZ4t_"
      }
    },
    {
      "cell_type": "code",
      "execution_count": null,
      "metadata": {
        "colab": {
          "base_uri": "https://localhost:8080/"
        },
        "id": "D_RHRseKVrJa",
        "outputId": "6977bab2-2072-401a-a9d2-4739204abded"
      },
      "outputs": [
        {
          "output_type": "stream",
          "name": "stdout",
          "text": [
            "root\n",
            " |-- id: string (nullable = true)\n",
            " |-- breath_id: string (nullable = true)\n",
            " |-- R: string (nullable = true)\n",
            " |-- C: string (nullable = true)\n",
            " |-- time_step: string (nullable = true)\n",
            " |-- u_in: string (nullable = true)\n",
            " |-- u_out: string (nullable = true)\n",
            " |-- pressure: string (nullable = true)\n",
            "\n"
          ]
        }
      ],
      "source": [
        "df.printSchema()"
      ]
    },
    {
      "cell_type": "markdown",
      "source": [
        "## **Converting dataframe numerical columns to float data type instead of string**"
      ],
      "metadata": {
        "id": "pNtjhFUbaSYv"
      }
    },
    {
      "cell_type": "code",
      "execution_count": null,
      "metadata": {
        "colab": {
          "base_uri": "https://localhost:8080/"
        },
        "id": "trjYdyRnVvxQ",
        "outputId": "b44ba71c-9c36-4033-ba96-b2a909b98976"
      },
      "outputs": [
        {
          "output_type": "stream",
          "name": "stdout",
          "text": [
            "root\n",
            " |-- id: float (nullable = true)\n",
            " |-- breath_id: float (nullable = true)\n",
            " |-- R: float (nullable = true)\n",
            " |-- C: float (nullable = true)\n",
            " |-- time_step: float (nullable = true)\n",
            " |-- u_in: float (nullable = true)\n",
            " |-- u_out: float (nullable = true)\n",
            " |-- pressure: float (nullable = true)\n",
            "\n"
          ]
        }
      ],
      "source": [
        "df=df.select(*(col(c).cast(\"float\").alias(c) for c in df.columns))\n",
        "df.printSchema()"
      ]
    },
    {
      "cell_type": "markdown",
      "source": [
        "## **Checking for Nulls in each column of the dataframe**"
      ],
      "metadata": {
        "id": "5xZBxzq6ajf3"
      }
    },
    {
      "cell_type": "code",
      "execution_count": null,
      "metadata": {
        "colab": {
          "base_uri": "https://localhost:8080/"
        },
        "id": "kV11bAgTWLnQ",
        "outputId": "cd47883d-d066-4553-c1e3-3c873707c20a"
      },
      "outputs": [
        {
          "output_type": "stream",
          "name": "stdout",
          "text": [
            "+---+---------+---+---+---------+----+-----+--------+\n",
            "| id|breath_id|  R|  C|time_step|u_in|u_out|pressure|\n",
            "+---+---------+---+---+---------+----+-----+--------+\n",
            "|  0|        0|  0|  0|        0|   0|    0|       0|\n",
            "+---+---------+---+---+---------+----+-----+--------+\n",
            "\n"
          ]
        }
      ],
      "source": [
        "df.select([count(when(col(c).isNull(),c)).alias(c) for c in df.columns]).show()"
      ]
    },
    {
      "cell_type": "markdown",
      "source": [
        "## **Checking if there are duplicate rows in the dataframe**"
      ],
      "metadata": {
        "id": "CAecER7wbHd2"
      }
    },
    {
      "cell_type": "code",
      "execution_count": null,
      "metadata": {
        "colab": {
          "base_uri": "https://localhost:8080/"
        },
        "id": "9q13rRodWatH",
        "outputId": "38703cfb-2651-451d-c121-5b9283bcc1fd"
      },
      "outputs": [
        {
          "output_type": "stream",
          "name": "stdout",
          "text": [
            "0\n"
          ]
        }
      ],
      "source": [
        "print(df.count()-df.distinct().count())"
      ]
    },
    {
      "cell_type": "markdown",
      "source": [
        "## **Dropping unneeded columns**"
      ],
      "metadata": {
        "id": "l__KjbKbZRlS"
      }
    },
    {
      "cell_type": "code",
      "execution_count": null,
      "metadata": {
        "id": "dE0tRI9jf7Hm"
      },
      "outputs": [],
      "source": [
        "columns_to_drop=['id','R','C','time_step']\n",
        "df=df.drop(*(columns_to_drop))"
      ]
    },
    {
      "cell_type": "markdown",
      "source": [
        "## **Grouping the dataframe by getting the mean for each breadth id , as we have many instances of the same person so we want to aggregate them to a single meaningful value**"
      ],
      "metadata": {
        "id": "Ph1J866fZnKc"
      }
    },
    {
      "cell_type": "code",
      "execution_count": null,
      "metadata": {
        "colab": {
          "base_uri": "https://localhost:8080/"
        },
        "id": "V9kEy3uBeSZ_",
        "outputId": "5149cc00-6ada-4920-c69d-3592017447c2"
      },
      "outputs": [
        {
          "output_type": "stream",
          "name": "stdout",
          "text": [
            "+---------+--------------+------------------+----------+------------------+\n",
            "|breath_id|avg(breath_id)|         avg(u_in)|avg(u_out)|     avg(pressure)|\n",
            "+---------+--------------+------------------+----------+------------------+\n",
            "|   2077.0|        2077.0| 4.710675767809152|    0.6375| 7.863951051235199|\n",
            "|   8195.0|        8195.0|11.708975955843925|    0.6375| 9.515172666311264|\n",
            "|   8559.0|        8559.0| 7.218330932408572|    0.6375|10.893094784021377|\n",
            "|  33799.0|       33799.0| 5.898460828512907|     0.625| 9.049421006441117|\n",
            "|    714.0|         714.0|  9.04502526000142|    0.6125| 14.54704881310463|\n",
            "|   2098.0|        2098.0| 9.937471459060907|    0.6375|  9.12323824763298|\n",
            "|   2318.0|        2318.0| 7.083714461186901|    0.6125|14.228931486606598|\n",
            "|   2679.0|        2679.0| 6.629322958551347|     0.625|15.309827148914337|\n",
            "|   3675.0|        3675.0| 5.338797570252791|     0.625|12.598800638318062|\n",
            "|   4618.0|        4618.0| 4.790234274230897|    0.6375|11.677842432260514|\n",
            "|   5039.0|        5039.0|2.5827429996803404|    0.6125| 8.415822899341583|\n",
            "|   5138.0|        5138.0| 5.232954978197813|     0.625|12.675254148244857|\n",
            "|   5332.0|        5332.0| 5.998594860662706|     0.625|11.221757358312606|\n",
            "|   5343.0|        5343.0|12.076128505170345|    0.6125|13.317640000581742|\n",
            "|   5750.0|        5750.0| 4.568029441684485|    0.6125| 10.35352582335472|\n",
            "|   5758.0|        5758.0| 3.254959386587143|       0.6|11.900173002481461|\n",
            "|   6130.0|        6130.0| 24.89972441494465|    0.6125|17.062108117341996|\n",
            "|   6471.0|        6471.0|3.0239510683342816|    0.6375| 8.721637243032456|\n",
            "|   6663.0|        6663.0| 4.893392961472273|     0.625|11.528450381755828|\n",
            "|   6801.0|        6801.0|  4.14285136796534|    0.6375|11.683115154504776|\n",
            "+---------+--------------+------------------+----------+------------------+\n",
            "only showing top 20 rows\n",
            "\n"
          ]
        }
      ],
      "source": [
        "pivotDF=df.groupby('breath_id').mean()\n",
        "pivotDF.show()"
      ]
    },
    {
      "cell_type": "code",
      "execution_count": null,
      "metadata": {
        "colab": {
          "base_uri": "https://localhost:8080/"
        },
        "id": "HO_JQ0Mze3xF",
        "outputId": "2a785bf8-e64f-45d7-b2bc-dd195e3ba97d"
      },
      "outputs": [
        {
          "output_type": "execute_result",
          "data": {
            "text/plain": [
              "75450"
            ]
          },
          "metadata": {},
          "execution_count": 12
        }
      ],
      "source": [
        "pivotDF.count()"
      ]
    },
    {
      "cell_type": "markdown",
      "source": [
        "## **Removing the breath_id and its average after grouping**"
      ],
      "metadata": {
        "id": "vEeJBuayZ7so"
      }
    },
    {
      "cell_type": "code",
      "execution_count": null,
      "metadata": {
        "id": "n2F6oXOQW9Sd"
      },
      "outputs": [],
      "source": [
        "columns_to_drop=['breath_id','avg(breath_id)']\n",
        "updated_df=pivotDF.drop(*(columns_to_drop))"
      ]
    },
    {
      "cell_type": "code",
      "execution_count": null,
      "metadata": {
        "colab": {
          "base_uri": "https://localhost:8080/"
        },
        "id": "1aR6vRBxW0ad",
        "outputId": "b714ea5c-89e6-4341-e412-8f8d53abfd18"
      },
      "outputs": [
        {
          "output_type": "stream",
          "name": "stdout",
          "text": [
            "+------------------+----------+------------------+\n",
            "|         avg(u_in)|avg(u_out)|     avg(pressure)|\n",
            "+------------------+----------+------------------+\n",
            "| 4.710675767809152|    0.6375| 7.863951051235199|\n",
            "|11.708975955843925|    0.6375| 9.515172666311264|\n",
            "| 7.218330932408572|    0.6375|10.893094784021377|\n",
            "| 5.898460828512907|     0.625| 9.049421006441117|\n",
            "|  9.04502526000142|    0.6125| 14.54704881310463|\n",
            "| 9.937471459060907|    0.6375|  9.12323824763298|\n",
            "| 7.083714461186901|    0.6125|14.228931486606598|\n",
            "| 6.629322958551347|     0.625|15.309827148914337|\n",
            "| 5.338797570252791|     0.625|12.598800638318062|\n",
            "| 4.790234274230897|    0.6375|11.677842432260514|\n",
            "|2.5827429996803404|    0.6125| 8.415822899341583|\n",
            "| 5.232954978197813|     0.625|12.675254148244857|\n",
            "| 5.998594860662706|     0.625|11.221757358312606|\n",
            "|12.076128505170345|    0.6125|13.317640000581742|\n",
            "| 4.568029441684485|    0.6125| 10.35352582335472|\n",
            "| 3.254959386587143|       0.6|11.900173002481461|\n",
            "| 24.89972441494465|    0.6125|17.062108117341996|\n",
            "|3.0239510683342816|    0.6375| 8.721637243032456|\n",
            "| 4.893392961472273|     0.625|11.528450381755828|\n",
            "|  4.14285136796534|    0.6375|11.683115154504776|\n",
            "+------------------+----------+------------------+\n",
            "only showing top 20 rows\n",
            "\n"
          ]
        }
      ],
      "source": [
        "updated_df.show()"
      ]
    },
    {
      "cell_type": "markdown",
      "source": [
        "## **Vector Assembler**"
      ],
      "metadata": {
        "id": "5E3N3lBYaFus"
      }
    },
    {
      "cell_type": "code",
      "execution_count": null,
      "metadata": {
        "id": "JKB0NMQwhFd1"
      },
      "outputs": [],
      "source": [
        "assembler = VectorAssembler(\n",
        "    inputCols=updated_df.columns,\n",
        "    outputCol=\"features\"\n",
        ")"
      ]
    },
    {
      "cell_type": "code",
      "execution_count": null,
      "metadata": {
        "colab": {
          "base_uri": "https://localhost:8080/"
        },
        "id": "9mfkaV-Ghil3",
        "outputId": "44352134-b6bd-4cfc-af4d-908d03c700e6"
      },
      "outputs": [
        {
          "output_type": "stream",
          "name": "stdout",
          "text": [
            "+------------------+----------+------------------+----------------------------------------------+\n",
            "|avg(u_in)         |avg(u_out)|avg(pressure)     |features                                      |\n",
            "+------------------+----------+------------------+----------------------------------------------+\n",
            "|4.710675767809152 |0.6375    |7.863951051235199 |[4.710675767809152,0.6375,7.863951051235199]  |\n",
            "|11.708975955843925|0.6375    |9.515172666311264 |[11.708975955843925,0.6375,9.515172666311264] |\n",
            "|7.218330932408572 |0.6375    |10.893094784021377|[7.218330932408572,0.6375,10.893094784021377] |\n",
            "|5.898460828512907 |0.625     |9.049421006441117 |[5.898460828512907,0.625,9.049421006441117]   |\n",
            "|9.04502526000142  |0.6125    |14.54704881310463 |[9.04502526000142,0.6125,14.54704881310463]   |\n",
            "|9.937471459060907 |0.6375    |9.12323824763298  |[9.937471459060907,0.6375,9.12323824763298]   |\n",
            "|7.083714461186901 |0.6125    |14.228931486606598|[7.083714461186901,0.6125,14.228931486606598] |\n",
            "|6.629322958551347 |0.625     |15.309827148914337|[6.629322958551347,0.625,15.309827148914337]  |\n",
            "|5.338797570252791 |0.625     |12.598800638318062|[5.338797570252791,0.625,12.598800638318062]  |\n",
            "|4.790234274230897 |0.6375    |11.677842432260514|[4.790234274230897,0.6375,11.677842432260514] |\n",
            "|2.5827429996803404|0.6125    |8.415822899341583 |[2.5827429996803404,0.6125,8.415822899341583] |\n",
            "|5.232954978197813 |0.625     |12.675254148244857|[5.232954978197813,0.625,12.675254148244857]  |\n",
            "|5.998594860662706 |0.625     |11.221757358312606|[5.998594860662706,0.625,11.221757358312606]  |\n",
            "|12.076128505170345|0.6125    |13.317640000581742|[12.076128505170345,0.6125,13.317640000581742]|\n",
            "|4.568029441684485 |0.6125    |10.35352582335472 |[4.568029441684485,0.6125,10.35352582335472]  |\n",
            "|3.254959386587143 |0.6       |11.900173002481461|[3.254959386587143,0.6,11.900173002481461]    |\n",
            "|24.89972441494465 |0.6125    |17.062108117341996|[24.89972441494465,0.6125,17.062108117341996] |\n",
            "|3.0239510683342816|0.6375    |8.721637243032456 |[3.0239510683342816,0.6375,8.721637243032456] |\n",
            "|4.893392961472273 |0.625     |11.528450381755828|[4.893392961472273,0.625,11.528450381755828]  |\n",
            "|4.14285136796534  |0.6375    |11.683115154504776|[4.14285136796534,0.6375,11.683115154504776]  |\n",
            "+------------------+----------+------------------+----------------------------------------------+\n",
            "only showing top 20 rows\n",
            "\n"
          ]
        }
      ],
      "source": [
        "pipeline = Pipeline(stages=[assembler])\n",
        "final_features=pipeline.fit(updated_df).transform(updated_df)\n",
        "final_features.show(truncate=False)"
      ]
    },
    {
      "cell_type": "code",
      "execution_count": null,
      "metadata": {
        "colab": {
          "base_uri": "https://localhost:8080/"
        },
        "id": "1e5Y2K4O5C_G",
        "outputId": "654f83f9-60b2-45d3-faf6-fa85cb2034d8"
      },
      "outputs": [
        {
          "output_type": "stream",
          "name": "stdout",
          "text": [
            "+------------------+----------+------------------+----------------------------------------------+\n",
            "|avg(u_in)         |avg(u_out)|avg(pressure)     |features                                      |\n",
            "+------------------+----------+------------------+----------------------------------------------+\n",
            "|4.710675767809152 |0.6375    |7.863951051235199 |[4.710675767809152,0.6375,7.863951051235199]  |\n",
            "|11.708975955843925|0.6375    |9.515172666311264 |[11.708975955843925,0.6375,9.515172666311264] |\n",
            "|7.218330932408572 |0.6375    |10.893094784021377|[7.218330932408572,0.6375,10.893094784021377] |\n",
            "|5.898460828512907 |0.625     |9.049421006441117 |[5.898460828512907,0.625,9.049421006441117]   |\n",
            "|9.04502526000142  |0.6125    |14.54704881310463 |[9.04502526000142,0.6125,14.54704881310463]   |\n",
            "|9.937471459060907 |0.6375    |9.12323824763298  |[9.937471459060907,0.6375,9.12323824763298]   |\n",
            "|7.083714461186901 |0.6125    |14.228931486606598|[7.083714461186901,0.6125,14.228931486606598] |\n",
            "|6.629322958551347 |0.625     |15.309827148914337|[6.629322958551347,0.625,15.309827148914337]  |\n",
            "|5.338797570252791 |0.625     |12.598800638318062|[5.338797570252791,0.625,12.598800638318062]  |\n",
            "|4.790234274230897 |0.6375    |11.677842432260514|[4.790234274230897,0.6375,11.677842432260514] |\n",
            "|2.5827429996803404|0.6125    |8.415822899341583 |[2.5827429996803404,0.6125,8.415822899341583] |\n",
            "|5.232954978197813 |0.625     |12.675254148244857|[5.232954978197813,0.625,12.675254148244857]  |\n",
            "|5.998594860662706 |0.625     |11.221757358312606|[5.998594860662706,0.625,11.221757358312606]  |\n",
            "|12.076128505170345|0.6125    |13.317640000581742|[12.076128505170345,0.6125,13.317640000581742]|\n",
            "|4.568029441684485 |0.6125    |10.35352582335472 |[4.568029441684485,0.6125,10.35352582335472]  |\n",
            "|3.254959386587143 |0.6       |11.900173002481461|[3.254959386587143,0.6,11.900173002481461]    |\n",
            "|24.89972441494465 |0.6125    |17.062108117341996|[24.89972441494465,0.6125,17.062108117341996] |\n",
            "|3.0239510683342816|0.6375    |8.721637243032456 |[3.0239510683342816,0.6375,8.721637243032456] |\n",
            "|4.893392961472273 |0.625     |11.528450381755828|[4.893392961472273,0.625,11.528450381755828]  |\n",
            "|4.14285136796534  |0.6375    |11.683115154504776|[4.14285136796534,0.6375,11.683115154504776]  |\n",
            "+------------------+----------+------------------+----------------------------------------------+\n",
            "only showing top 20 rows\n",
            "\n"
          ]
        }
      ],
      "source": [
        "final_features.show(truncate=False)"
      ]
    },
    {
      "cell_type": "markdown",
      "source": [
        "## **Applying Standraization on the features**"
      ],
      "metadata": {
        "id": "-YQB-RtgaWJh"
      }
    },
    {
      "cell_type": "code",
      "execution_count": null,
      "metadata": {
        "colab": {
          "base_uri": "https://localhost:8080/"
        },
        "id": "oPtAoCNa-tb0",
        "outputId": "524a66cc-6257-43dc-e5fc-7531c6260f71"
      },
      "outputs": [
        {
          "output_type": "stream",
          "name": "stdout",
          "text": [
            "+------------------+----------+------------------+----------------------------------------------+----------------------------------------------------------+\n",
            "|avg(u_in)         |avg(u_out)|avg(pressure)     |features                                      |scaledFeatures                                            |\n",
            "+------------------+----------+------------------+----------------------------------------------+----------------------------------------------------------+\n",
            "|4.710675767809152 |0.6375    |7.863951051235199 |[4.710675767809152,0.6375,7.863951051235199]  |[0.8565302119110805,45.01903407292778,2.500929931211817]  |\n",
            "|11.708975955843925|0.6375    |9.515172666311264 |[11.708975955843925,0.6375,9.515172666311264] |[2.129013362638008,45.01903407292778,3.0260590340384437]  |\n",
            "|7.218330932408572 |0.6375    |10.893094784021377|[7.218330932408572,0.6375,10.893094784021377] |[1.3124907821995333,45.01903407292778,3.4642721720155314] |\n",
            "|5.898460828512907 |0.625     |9.049421006441117 |[5.898460828512907,0.625,9.049421006441117]   |[1.0725021530711414,44.13630791463508,2.8779385461193487] |\n",
            "|9.04502526000142  |0.6125    |14.54704881310463 |[9.04502526000142,0.6125,14.54704881310463]   |[1.6446339728223822,43.253581756342385,4.626319460848918] |\n",
            "|9.937471459060907 |0.6375    |9.12323824763298  |[9.937471459060907,0.6375,9.12323824763298]   |[1.806905198794526,45.01903407292778,2.9014142451329143]  |\n",
            "|7.083714461186901 |0.6125    |14.228931486606598|[7.083714461186901,0.6125,14.228931486606598] |[1.2880138111012136,43.253581756342385,4.525150323567596] |\n",
            "|6.629322958551347 |0.625     |15.309827148914337|[6.629322958551347,0.625,15.309827148914337]  |[1.2053929581223988,44.13630791463508,4.868901740224474]  |\n",
            "|5.338797570252791 |0.625     |12.598800638318062|[5.338797570252791,0.625,12.598800638318062]  |[0.9707400041089495,44.13630791463508,4.006728603529529]  |\n",
            "|4.790234274230897 |0.6375    |11.677842432260514|[4.790234274230897,0.6375,11.677842432260514] |[0.870996133091735,45.01903407292778,3.71384123331088]    |\n",
            "|2.5827429996803404|0.6125    |8.415822899341583 |[2.5827429996803404,0.6125,8.415822899341583] |[0.469613600652654,43.253581756342385,2.6764387580254896] |\n",
            "|5.232954978197813 |0.625     |12.675254148244857|[5.232954978197813,0.625,12.675254148244857]  |[0.9514949143870916,44.13630791463508,4.031042700867673]  |\n",
            "|5.998594860662706 |0.625     |11.221757358312606|[5.998594860662706,0.625,11.221757358312606]  |[1.0907092698425567,44.13630791463508,3.568794957566817]  |\n",
            "|12.076128505170345|0.6125    |13.317640000581742|[12.076128505170345,0.6125,13.317640000581742]|[2.1957717782834365,43.253581756342385,4.235337208174402] |\n",
            "|4.568029441684485 |0.6125    |10.35352582335472 |[4.568029441684485,0.6125,10.35352582335472]  |[0.8305931926878868,43.253581756342385,3.2926759661271268]|\n",
            "|3.254959386587143 |0.6       |11.900173002481461|[3.254959386587143,0.6,11.900173002481461]    |[0.5918409991634979,42.37085559804968,3.7845478252093154] |\n",
            "|24.89972441494465 |0.6125    |17.062108117341996|[24.89972441494465,0.6125,17.062108117341996] |[4.52745365652262,43.253581756342385,5.426170204038884]   |\n",
            "|3.0239510683342816|0.6375    |8.721637243032456 |[3.0239510683342816,0.6375,8.721637243032456] |[0.5498373433104504,45.01903407292778,2.773695244052354]  |\n",
            "|4.893392961472273 |0.625     |11.528450381755828|[4.893392961472273,0.625,11.528450381755828]  |[0.8897532152172191,44.13630791463508,3.6663308853753356] |\n",
            "|4.14285136796534  |0.6375    |11.683115154504776|[4.14285136796534,0.6375,11.683115154504776]  |[0.7532841433002708,45.01903407292778,3.7155180887228387] |\n",
            "+------------------+----------+------------------+----------------------------------------------+----------------------------------------------------------+\n",
            "only showing top 20 rows\n",
            "\n"
          ]
        }
      ],
      "source": [
        "scaler=StandardScaler(inputCol=\"features\",outputCol=\"scaledFeatures\")\n",
        "final_features=scaler.fit(final_features).transform(final_features)\n",
        "final_features.show(truncate=False)"
      ]
    },
    {
      "cell_type": "code",
      "execution_count": null,
      "metadata": {
        "colab": {
          "base_uri": "https://localhost:8080/",
          "height": 35
        },
        "id": "eNoWg0BMiEZt",
        "outputId": "fb4ee414-9251-4c9f-9417-b695e03519be"
      },
      "outputs": [
        {
          "output_type": "execute_result",
          "data": {
            "text/plain": [
              "'\\nscaler=Normalizer(inputCol=\"features\",outputCol=\"scaledFeatures\")\\nfinal_features=scaler.transform(final_features)\\nfinal_features.show(truncate=False)\\n'"
            ],
            "application/vnd.google.colaboratory.intrinsic+json": {
              "type": "string"
            }
          },
          "metadata": {},
          "execution_count": 19
        }
      ],
      "source": [
        "\"\"\"\n",
        "scaler=Normalizer(inputCol=\"features\",outputCol=\"scaledFeatures\")\n",
        "final_features=scaler.transform(final_features)\n",
        "final_features.show(truncate=False)\n",
        "\"\"\""
      ]
    },
    {
      "cell_type": "markdown",
      "source": [
        "## **Elbow method and sihouette graph to determine the best value for K**"
      ],
      "metadata": {
        "id": "FJj0Lw8vawX0"
      }
    },
    {
      "cell_type": "code",
      "execution_count": null,
      "metadata": {
        "colab": {
          "base_uri": "https://localhost:8080/",
          "height": 521
        },
        "id": "nh8Q71jEiJFF",
        "outputId": "5137d5dc-fd48-4d3b-9ea3-fee7f8dab34b"
      },
      "outputs": [
        {
          "output_type": "stream",
          "name": "stdout",
          "text": [
            "Error with k = 2  is  146016.85619307702\n",
            "Error with k = 3  is  101692.49281326387\n",
            "Error with k = 4  is  75436.10223791024\n",
            "Error with k = 5  is  61084.796804374746\n",
            "Error with k = 6  is  53946.09978889986\n",
            "Error with k = 7  is  49734.952662752905\n",
            "Error with k = 8  is  44051.50930015267\n",
            "Error with k = 9  is  42407.07529284866\n",
            "Error with k = 10  is  37123.713352661274\n",
            "Error with k = 11  is  34896.171028906356\n",
            "Error with k = 12  is  32479.824611212473\n",
            "Error with k = 13  is  31254.615522726817\n",
            "Error with k = 14  is  27263.317938396598\n"
          ]
        },
        {
          "output_type": "display_data",
          "data": {
            "text/plain": [
              "<Figure size 432x288 with 1 Axes>"
            ],
            "image/png": "[encoded data removed]"
          },
          "metadata": {
            "needs_background": "light"
          }
        }
      ],
      "source": [
        "error=np.zeros(13)\n",
        "k_components=np.arange(2,15)\n",
        "for i, k in enumerate(k_components):\n",
        "  kmeans=KMeans().setK(k).setSeed(1).setFeaturesCol('scaledFeatures')\n",
        "  clustering_model=kmeans.fit(final_features)\n",
        "  error[i]=clustering_model.summary.trainingCost\n",
        "  print(\"Error with k =\",k,\" is \",error[i])\n",
        "\n",
        "df_cost = pd.DataFrame(error[0:])\n",
        "df_cost.columns = [\"error\"]\n",
        "df_cost.insert(0, 'cluster', k_components)\n",
        "\n",
        "import pylab as pl\n",
        "pl.plot(df_cost.cluster, df_cost.error)\n",
        "pl.xlabel('Number of Clusters')\n",
        "pl.ylabel('Error')\n",
        "pl.title('Elbow Curve')\n",
        "pl.show()\n"
      ]
    },
    {
      "cell_type": "code",
      "execution_count": null,
      "metadata": {
        "colab": {
          "base_uri": "https://localhost:8080/",
          "height": 521
        },
        "id": "bSc74bZmBlLi",
        "outputId": "a19bb838-347b-461a-982b-4886c5b5b111"
      },
      "outputs": [
        {
          "output_type": "stream",
          "name": "stdout",
          "text": [
            "Silhouette Score with k = 2  is  0.5674941925445168\n",
            "Silhouette Score with k = 3  is  0.08850777366376476\n",
            "Silhouette Score with k = 4  is  0.11863399646852495\n",
            "Silhouette Score with k = 5  is  0.11441366332365989\n",
            "Silhouette Score with k = 6  is  0.05647208138207552\n",
            "Silhouette Score with k = 7  is  0.027918387828728245\n",
            "Silhouette Score with k = 8  is  0.021372857784360582\n",
            "Silhouette Score with k = 9  is  0.004321394509726348\n",
            "Silhouette Score with k = 10  is  -0.037625621553040334\n",
            "Silhouette Score with k = 11  is  -0.06358273189209997\n",
            "Silhouette Score with k = 12  is  -0.09763840873923134\n",
            "Silhouette Score with k = 13  is  -0.07077387207336756\n",
            "Silhouette Score with k = 14  is  -0.10041782141848525\n"
          ]
        },
        {
          "output_type": "display_data",
          "data": {
            "text/plain": [
              "<Figure size 432x288 with 1 Axes>"
            ],
            "image/png": "[encoded data removed]"
          },
          "metadata": {
            "needs_background": "light"
          }
        }
      ],
      "source": [
        "silhouette_scores=np.zeros(13)\n",
        "k_components=np.arange(2,15)\n",
        "for i, k in enumerate(k_components):\n",
        "    kmeans=KMeans().setK(k).setSeed(1).setFeaturesCol('scaledFeatures')\n",
        "    clustering_model=kmeans.fit(final_features)\n",
        "    preds=clustering_model.transform(final_features)\n",
        "    evaluator=ClusteringEvaluator()\n",
        "    silhouette=evaluator.evaluate(preds)\n",
        "    silhouette_scores[i]=silhouette\n",
        "    print(\"Silhouette Score with k =\",k,\" is \",silhouette_scores[i])\n",
        "\n",
        "df_cost = pd.DataFrame(silhouette_scores[0:])\n",
        "df_cost.columns = [\"score\"]\n",
        "df_cost.insert(0, 'cluster', k_components)\n",
        "\n",
        "import pylab as pl\n",
        "pl.plot(df_cost.cluster, df_cost.score)\n",
        "pl.xlabel('Number of Clusters')\n",
        "pl.ylabel('Silhouette Score')\n",
        "pl.title('Silhouette Analysis')\n",
        "pl.show()"
      ]
    },
    {
      "cell_type": "markdown",
      "source": [
        "## **We can see from the elbow method and sihoulette graph that the best value of k is 4 or 5**"
      ],
      "metadata": {
        "id": "UpMvqZqPgBBL"
      }
    },
    {
      "cell_type": "code",
      "source": [
        "# Lets fit our final Kmeans model with k=5 based on the elbow method and sihoulette graph\n",
        "kmeans=KMeans().setK(5).setSeed(1).setFeaturesCol('scaledFeatures')\n",
        "clustering_model=kmeans.fit(final_features)\n",
        "preds=clustering_model.transform(final_features)"
      ],
      "metadata": {
        "id": "UWQpCHbsgbor"
      },
      "execution_count": null,
      "outputs": []
    }
  ],
  "metadata": {
    "colab": {
      "collapsed_sections": [],
      "name": "Clustering_pyspark.ipynb",
      "provenance": []
    },
    "kernelspec": {
      "display_name": "Python 3",
      "name": "python3"
    },
    "language_info": {
      "name": "python"
    }
  },
  "nbformat": 4,
  "nbformat_minor": 0
}